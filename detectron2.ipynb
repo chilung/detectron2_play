
<!DOCTYPE html>
<html lang="zh">
  <head>
  <meta charset="utf-8">
  <meta content="width=300, initial-scale=1" name="viewport">
  <meta name="description" content="Google 雲端硬碟可讓您輕鬆備份各種檔案，您可透過任何手機、平板電腦或一般電腦來存取所需檔案。現在申請 Google 雲端硬碟，立即享有 15 GB 的免費儲存空間。">
  <meta name="google-site-verification" content="LrdTUW9psUAMbh4Ia074-BPEVmcpBxF6Gwf0MSgQXZs">
  <title>歡迎使用 Google 雲端硬碟 – 集中管理您所有的檔案</title>
<style>
  html, body {
  font-family: Arial, sans-serif;
  background: #fff;
  margin: 0;
  padding: 0;
  border: 0;
  position: absolute;
  height: 100%;
  min-width: 100%;
  font-size: 13px;
  color: #404040;
  direction: ltr;
  -webkit-text-size-adjust: none;
  }
  button,
  input[type=button],
  input[type=submit] {
  font-family: Arial, sans-serif;
  font-size: 13px;
  }
  a,
  a:hover,
  a:visited {
  color: #427fed;
  cursor: pointer;
  text-decoration: none;
  }
  a:hover {
  text-decoration: underline;
  }
  h1 {
  font-size: 20px;
  color: #262626;
  margin: 0 0 15px;
  font-weight: normal;
  }
  h2 {
  font-size: 14px;
  color: #262626;
  margin: 0 0 15px;
  font-weight: bold;
  }
  input[type=email],
  input[type=number],
  input[type=password],
  input[type=tel],
  input[type=text],
  input[type=url] {
  -moz-appearance: none;
  -webkit-appearance: none;
  appearance: none;
  display: inline-block;
  height: 36px;
  padding: 0 8px;
  margin: 0;
  background: #fff;
  border: 1px solid #d9d9d9;
  border-top: 1px solid #c0c0c0;
  -moz-box-sizing: border-box;
  -webkit-box-sizing: border-box;
  box-sizing: border-box;
  -moz-border-radius: 1px;
  -webkit-border-radius: 1px;
  border-radius: 1px;
  font-size: 15px;
  color: #404040;
  }
  input[type=email]:hover,
  input[type=number]:hover,
  input[type=password]:hover,
  input[type=tel]:hover,
  input[type=text]:hover,
  input[type=url]:hover {
  border: 1px solid #b9b9b9;
  border-top: 1px solid #a0a0a0;
  -moz-box-shadow: inset 0 1px 2px rgba(0,0,0,0.1);
  -webkit-box-shadow: inset 0 1px 2px rgba(0,0,0,0.1);
  box-shadow: inset 0 1px 2px rgba(0,0,0,0.1);
  }
  input[type=email]:focus,
  input[type=number]:focus,
  input[type=password]:focus,
  input[type=tel]:focus,
  input[type=text]:focus,
  input[type=url]:focus {
  outline: none;
  border: 1px solid #4d90fe;
  -moz-box-shadow: inset 0 1px 2px rgba(0,0,0,0.3);
  -webkit-box-shadow: inset 0 1px 2px rgba(0,0,0,0.3);
  box-shadow: inset 0 1px 2px rgba(0,0,0,0.3);
  }
  input[type=checkbox],
  input[type=radio] {
  -webkit-appearance: none;
  display: inline-block;
  width: 13px;
  height: 13px;
  margin: 0;
  cursor: pointer;
  vertical-align: bottom;
  background: #fff;
  border: 1px solid #c6c6c6;
  -moz-border-radius: 1px;
  -webkit-border-radius: 1px;
  border-radius: 1px;
  -moz-box-sizing: border-box;
  -webkit-box-sizing: border-box;
  box-sizing: border-box;
  position: relative;
  }
  input[type=checkbox]:active,
  input[type=radio]:active {
  background: #ebebeb;
  }
  input[type=checkbox]:hover {
  border-color: #c6c6c6;
  -moz-box-shadow: inset 0 1px 2px rgba(0,0,0,0.1);
  -webkit-box-shadow: inset 0 1px 2px rgba(0,0,0,0.1);
  box-shadow: inset 0 1px 2px rgba(0,0,0,0.1);
  }
  input[type=radio] {
  -moz-border-radius: 1em;
  -webkit-border-radius: 1em;
  border-radius: 1em;
  width: 15px;
  height: 15px;
  }
  input[type=checkbox]:checked,
  input[type=radio]:checked {
  background: #fff;
  }
  input[type=radio]:checked::after {
  content: '';
  display: block;
  position: relative;
  top: 3px;
  left: 3px;
  width: 7px;
  height: 7px;
  background: #666;
  -moz-border-radius: 1em;
  -webkit-border-radius: 1em;
  border-radius: 1em;
  }
  input[type=checkbox]:checked::after {
  content: url(https://ssl.gstatic.com/ui/v1/menu/checkmark.png);
  display: block;
  position: absolute;
  top: -6px;
  left: -5px;
  }
  input[type=checkbox]:focus {
  outline: none;
  border-color: #4d90fe;
  }
  .stacked-label {
  display: block;
  font-weight: bold;
  margin: .5em 0;
  }
  .hidden-label {
  position: absolute !important;
  clip: rect(1px 1px 1px 1px); /* IE6, IE7 */
  clip: rect(1px, 1px, 1px, 1px);
  height: 0px;
  width: 0px;
  overflow: hidden;
  visibility: hidden;
  }
  input[type=checkbox].form-error,
  input[type=email].form-error,
  input[type=number].form-error,
  input[type=password].form-error,
  input[type=text].form-error,
  input[type=tel].form-error,
  input[type=url].form-error {
  border: 1px solid #dd4b39;
  }
  .error-msg {
  margin: .5em 0;
  display: block;
  color: #dd4b39;
  line-height: 17px;
  }
  .help-link {
  background: #dd4b39;
  padding: 0 5px;
  color: #fff;
  font-weight: bold;
  display: inline-block;
  -moz-border-radius: 1em;
  -webkit-border-radius: 1em;
  border-radius: 1em;
  text-decoration: none;
  position: relative;
  top: 0px;
  }
  .help-link:visited {
  color: #fff;
  }
  .help-link:hover {
  color: #fff;
  background: #c03523;
  text-decoration: none;
  }
  .help-link:active {
  opacity: 1;
  background: #ae2817;
  }
  .wrapper {
  position: relative;
  min-height: 100%;
  }
  .content {
  padding: 0 44px;
  }
  .main {
  padding-bottom: 100px;
  }
  /* For modern browsers */
  .clearfix:before,
  .clearfix:after {
  content: "";
  display: table;
  }
  .clearfix:after {
  clear: both;
  }
  /* For IE 6/7 (trigger hasLayout) */
  .clearfix {
  zoom:1;
  }
  .google-header-bar {
  height: 71px;
  border-bottom: 1px solid #e5e5e5;
  overflow: hidden;
  }
  .header .logo {
  background-image: url(https://ssl.gstatic.com/accounts/ui/logo_1x.png);
  background-size: 116px 38px;
  background-repeat: no-repeat;
  margin: 17px 0 0;
  float: left;
  height: 38px;
  width: 116px;
  }
  .header .logo-w {
  background-image: url(https://ssl.gstatic.com/images/branding/googlelogo/1x/googlelogo_color_112x36dp.png);
  background-size: 112px 36px;
  margin: 21px 0 0;
  }
  .header .secondary-link {
  margin: 28px 0 0;
  float: right;
  }
  .header .secondary-link a {
  font-weight: normal;
  }
  .google-header-bar.centered {
  border: 0;
  height: 108px;
  }
  .google-header-bar.centered .header .logo {
  float: none;
  margin: 40px auto 30px;
  display: block;
  }
  .google-header-bar.centered .header .secondary-link {
  display: none
  }
  .google-footer-bar {
  position: absolute;
  bottom: 0;
  height: 35px;
  width: 100%;
  border-top: 1px solid #e5e5e5;
  overflow: hidden;
  }
  .footer {
  padding-top: 7px;
  font-size: .85em;
  white-space: nowrap;
  line-height: 0;
  }
  .footer ul {
  float: left;
  max-width: 80%;
  min-height: 16px;
  padding: 0;
  }
  .footer ul li {
  color: #737373;
  display: inline;
  padding: 0;
  padding-right: 1.5em;
  }
  .footer a {
  color: #737373;
  }
  .lang-chooser-wrap {
  float: right;
  display: inline;
  }
  .lang-chooser-wrap img {
  vertical-align: top;
  }
  .lang-chooser {
  font-size: 13px;
  height: 24px;
  line-height: 24px;
  }
  .lang-chooser option {
  font-size: 13px;
  line-height: 24px;
  }
  .hidden {
  height: 0px;
  width: 0px;
  overflow: hidden;
  visibility: hidden;
  display: none !important;
  }
  .banner {
  text-align: center;
  }
  .card {
  background-color: #f7f7f7;
  padding: 20px 25px 30px;
  margin: 0 auto 25px;
  width: 304px;
  -moz-border-radius: 2px;
  -webkit-border-radius: 2px;
  border-radius: 2px;
  -moz-box-shadow: 0px 2px 2px rgba(0, 0, 0, 0.3);
  -webkit-box-shadow: 0px 2px 2px rgba(0, 0, 0, 0.3);
  box-shadow: 0px 2px 2px rgba(0, 0, 0, 0.3);
  }
  .card > *:first-child {
  margin-top: 0;
  }
  .rc-button,
  .rc-button:visited {
  display: inline-block;
  min-width: 46px;
  text-align: center;
  color: #444;
  font-size: 14px;
  font-weight: 700;
  height: 36px;
  padding: 0 8px;
  line-height: 36px;
  -moz-border-radius: 3px;
  -webkit-border-radius: 3px;
  border-radius: 3px;
  -o-transition: all 0.218s;
  -moz-transition: all 0.218s;
  -webkit-transition: all 0.218s;
  transition: all 0.218s;
  border: 1px solid #dcdcdc;
  background-color: #f5f5f5;
  background-image: -webkit-linear-gradient(top,#f5f5f5,#f1f1f1);
  background-image: -moz-linear-gradient(top,#f5f5f5,#f1f1f1);
  background-image: -ms-linear-gradient(top,#f5f5f5,#f1f1f1);
  background-image: -o-linear-gradient(top,#f5f5f5,#f1f1f1);
  background-image: linear-gradient(top,#f5f5f5,#f1f1f1);
  -o-transition: none;
  -moz-user-select: none;
  -webkit-user-select: none;
  user-select: none;
  cursor: default;
  }
  .card .rc-button {
  width: 100%;
  padding: 0;
  }
  .rc-button.disabled,
  .rc-button[disabled] {
  opacity: .5;
  filter: alpha(opacity=50);
  cursor: default;
  pointer-events: none;
  }
  .rc-button:hover {
  border: 1px solid #c6c6c6;
  color: #333;
  text-decoration: none;
  -o-transition: all 0.0s;
  -moz-transition: all 0.0s;
  -webkit-transition: all 0.0s;
  transition: all 0.0s;
  background-color: #f8f8f8;
  background-image: -webkit-linear-gradient(top,#f8f8f8,#f1f1f1);
  background-image: -moz-linear-gradient(top,#f8f8f8,#f1f1f1);
  background-image: -ms-linear-gradient(top,#f8f8f8,#f1f1f1);
  background-image: -o-linear-gradient(top,#f8f8f8,#f1f1f1);
  background-image: linear-gradient(top,#f8f8f8,#f1f1f1);
  -moz-box-shadow: 0 1px 1px rgba(0,0,0,0.1);
  -webkit-box-shadow: 0 1px 1px rgba(0,0,0,0.1);
  box-shadow: 0 1px 1px rgba(0,0,0,0.1);
  }
  .rc-button:active {
  background-color: #f6f6f6;
  background-image: -webkit-linear-gradient(top,#f6f6f6,#f1f1f1);
  background-image: -moz-linear-gradient(top,#f6f6f6,#f1f1f1);
  background-image: -ms-linear-gradient(top,#f6f6f6,#f1f1f1);
  background-image: -o-linear-gradient(top,#f6f6f6,#f1f1f1);
  background-image: linear-gradient(top,#f6f6f6,#f1f1f1);
  -moz-box-shadow: 0 1px 2px rgba(0,0,0,0.1);
  -webkit-box-shadow: 0 1px 2px rgba(0,0,0,0.1);
  box-shadow: 0 1px 2px rgba(0,0,0,0.1);
  }
  .rc-button-submit,
  .rc-button-submit:visited {
  border: 1px solid #3079ed;
  color: #fff;
  text-shadow: 0 1px rgba(0,0,0,0.1);
  background-color: #4d90fe;
  background-image: -webkit-linear-gradient(top,#4d90fe,#4787ed);
  background-image: -moz-linear-gradient(top,#4d90fe,#4787ed);
  background-image: -ms-linear-gradient(top,#4d90fe,#4787ed);
  background-image: -o-linear-gradient(top,#4d90fe,#4787ed);
  background-image: linear-gradient(top,#4d90fe,#4787ed);
  }
  .rc-button-submit:hover {
  border: 1px solid #2f5bb7;
  color: #fff;
  text-shadow: 0 1px rgba(0,0,0,0.3);
  background-color: #357ae8;
  background-image: -webkit-linear-gradient(top,#4d90fe,#357ae8);
  background-image: -moz-linear-gradient(top,#4d90fe,#357ae8);
  background-image: -ms-linear-gradient(top,#4d90fe,#357ae8);
  background-image: -o-linear-gradient(top,#4d90fe,#357ae8);
  background-image: linear-gradient(top,#4d90fe,#357ae8);
  }
  .rc-button-submit:active {
  background-color: #357ae8;
  background-image: -webkit-linear-gradient(top,#4d90fe,#357ae8);
  background-image: -moz-linear-gradient(top,#4d90fe,#357ae8);
  background-image: -ms-linear-gradient(top,#4d90fe,#357ae8);
  background-image: -o-linear-gradient(top,#4d90fe,#357ae8);
  background-image: linear-gradient(top,#4d90fe,#357ae8);
  -moz-box-shadow: inset 0 1px 2px rgba(0,0,0,0.3);
  -webkit-box-shadow: inset 0 1px 2px rgba(0,0,0,0.3);
  box-shadow: inset 0 1px 2px rgba(0,0,0,0.3);
  }
  .rc-button-red,
  .rc-button-red:visited {
  border: 1px solid transparent;
  color: #fff;
  text-shadow: 0 1px rgba(0,0,0,0.1);
  background-color: #d14836;
  background-image: -webkit-linear-gradient(top,#dd4b39,#d14836);
  background-image: -moz-linear-gradient(top,#dd4b39,#d14836);
  background-image: -ms-linear-gradient(top,#dd4b39,#d14836);
  background-image: -o-linear-gradient(top,#dd4b39,#d14836);
  background-image: linear-gradient(top,#dd4b39,#d14836);
  }
  .rc-button-red:hover {
  border: 1px solid #b0281a;
  color: #fff;
  text-shadow: 0 1px rgba(0,0,0,0.3);
  background-color: #c53727;
  background-image: -webkit-linear-gradient(top,#dd4b39,#c53727);
  background-image: -moz-linear-gradient(top,#dd4b39,#c53727);
  background-image: -ms-linear-gradient(top,#dd4b39,#c53727);
  background-image: -o-linear-gradient(top,#dd4b39,#c53727);
  background-image: linear-gradient(top,#dd4b39,#c53727);
  }
  .rc-button-red:active {
  border: 1px solid #992a1b;
  background-color: #b0281a;
  background-image: -webkit-linear-gradient(top,#dd4b39,#b0281a);
  background-image: -moz-linear-gradient(top,#dd4b39,#b0281a);
  background-image: -ms-linear-gradient(top,#dd4b39,#b0281a);
  background-image: -o-linear-gradient(top,#dd4b39,#b0281a);
  background-image: linear-gradient(top,#dd4b39,#b0281a);
  -moz-box-shadow: inset 0 1px 2px rgba(0,0,0,0.3);
  -webkit-box-shadow: inset 0 1px 2px rgba(0,0,0,0.3);
  box-shadow: inset 0 1px 2px rgba(0,0,0,0.3);
  }
  .secondary-actions {
  text-align: center;
  }
</style>
<style media="screen and (max-width: 800px), screen and (max-height: 800px)">
  .google-header-bar.centered {
  height: 83px;
  }
  .google-header-bar.centered .header .logo {
  margin: 25px auto 20px;
  }
  .card {
  margin-bottom: 20px;
  }
</style>
<style media="screen and (max-width: 580px)">
  html, body {
  font-size: 14px;
  }
  .google-header-bar.centered {
  height: 73px;
  }
  .google-header-bar.centered .header .logo {
  margin: 20px auto 15px;
  }
  .content {
  padding-left: 10px;
  padding-right: 10px;
  }
  .hidden-small {
  display: none;
  }
  .card {
  padding: 20px 15px 30px;
  width: 270px;
  }
  .footer ul li {
  padding-right: 1em;
  }
  .lang-chooser-wrap {
  display: none;
  }
</style>
<style media="screen and (-webkit-min-device-pixel-ratio: 1.5), (min--moz-device-pixel-ratio: 1.5), (-o-min-device-pixel-ratio: 3 / 2), (min-device-pixel-ratio: 1.5)">
  .header .logo {
  background-image: url(https://ssl.gstatic.com/accounts/ui/logo_2x.png);
  }
  .header .logo-w {
  background-image: url(https://ssl.gstatic.com/images/branding/googlelogo/2x/googlelogo_color_112x36dp.png);
  }
</style>
<style>
  pre.debug {
  font-family: monospace;
  position: absolute;
  left: 0;
  margin: 0;
  padding: 1.5em;
  font-size: 13px;
  background: #f1f1f1;
  border-top: 1px solid #e5e5e5;
  direction: ltr;
  white-space: pre-wrap;
  width: 90%;
  overflow: hidden;
  }
</style>
<style>
  .banner h1 {
  font-family: 'Open Sans', arial;
  -webkit-font-smoothing: antialiased;
  color: #555;
  font-size: 42px;
  font-weight: 300;
  margin-top: 0;
  margin-bottom: 20px;
  }
  .banner h2 {
  font-family: 'Open Sans', arial;
  -webkit-font-smoothing: antialiased;
  color: #555;
  font-size: 18px;
  font-weight: 400;
  margin-bottom: 20px;
  }
  .signin-card {
  width: 274px;
  padding: 40px 40px;
  }
  .signin-card .profile-img {
  width: 96px;
  height: 96px;
  margin: 0 auto 10px;
  display: block;
  -moz-border-radius: 50%;
  -webkit-border-radius: 50%;
  border-radius: 50%;
  }
  .signin-card .profile-name {
  font-size: 16px;
  font-weight: bold;
  text-align: center;
  margin: 10px 0 0;
  min-height: 1em;
  }
  .signin-card .profile-email {
  font-size: 16px;
  text-align: center;
  margin: 10px 0 20px 0;
  min-height: 1em;
  }
  .signin-card input[type=email],
  .signin-card input[type=password],
  .signin-card input[type=text],
  .signin-card input[type=submit] {
  width: 100%;
  display: block;
  margin-bottom: 10px;
  z-index: 1;
  position: relative;
  -moz-box-sizing: border-box;
  -webkit-box-sizing: border-box;
  box-sizing: border-box;
  }
  .signin-card #Email,
  .signin-card #Passwd,
  .signin-card .captcha {
  direction: ltr;
  height: 44px;
  font-size: 16px;
  }
  .signin-card #Email + .stacked-label {
  margin-top: 15px;
  }
  .signin-card #reauthEmail {
  display: block;
  margin-bottom: 10px;
  line-height: 36px;
  padding: 0 8px;
  font-size: 15px;
  color: #404040;
  line-height: 2;
  margin-bottom: 10px;
  font-size: 14px;
  text-align: center;
  overflow: hidden;
  text-overflow: ellipsis;
  white-space: nowrap;
  -moz-box-sizing: border-box;
  -webkit-box-sizing: border-box;
  box-sizing: border-box;
  }
  .one-google p {
  margin: 0 0 10px;
  color: #555;
  font-size: 14px;
  text-align: center;
  }
  .one-google p.create-account,
  .one-google p.switch-account {
  margin-bottom: 60px;
  }
  .one-google .logo-strip {
  background-repeat: no-repeat;
  display: block;
  margin: 10px auto;
  background-image: url(https://ssl.gstatic.com/accounts/ui/wlogostrip_230x17_1x.png);
  background-size: 230px 17px;
  width: 230px;
  height: 17px;
  }
</style>
<style media="screen and (max-width: 800px), screen and (max-height: 800px)">
  .banner h1 {
  font-size: 38px;
  margin-bottom: 15px;
  }
  .banner h2 {
  margin-bottom: 15px;
  }
  .one-google p.create-account,
  .one-google p.switch-account {
  margin-bottom: 30px;
  }
  .signin-card #Email {
  margin-bottom: 0;
  }
  .signin-card #Passwd {
  margin-top: -1px;
  }
  .signin-card #Email.form-error,
  .signin-card #Passwd.form-error {
  z-index: 2;
  }
  .signin-card #Email:hover,
  .signin-card #Email:focus,
  .signin-card #Passwd:hover,
  .signin-card #Passwd:focus {
  z-index: 3;
  }
</style>
<style media="screen and (max-width: 580px)">
  .banner h1 {
  font-size: 22px;
  margin-bottom: 15px;
  }
  .signin-card {
  width: 260px;
  padding: 20px 20px;
  margin: 0 auto 20px;
  }
  .signin-card .profile-img {
  width: 72px;
  height: 72px;
  -moz-border-radius: 72px;
  -webkit-border-radius: 72px;
  border-radius: 72px;
  }
</style>
<style media="screen and (-webkit-min-device-pixel-ratio: 1.5), (min--moz-device-pixel-ratio: 1.5), (-o-min-device-pixel-ratio: 3 / 2), (min-device-pixel-ratio: 1.5)">
  .one-google .logo-strip {
  background-image: url(https://ssl.gstatic.com/accounts/ui/wlogostrip_230x17_2x.png);
  }
</style>
<style>
  .remember .bubble-wrap {
  position: absolute;
  padding-top: 3px;
  -o-transition: opacity .218s ease-in .218s;
  -moz-transition: opacity .218s ease-in .218s;
  -webkit-transition: opacity .218s ease-in .218s;
  transition: opacity .218s ease-in .218s;
  left: -999em;
  opacity: 0;
  width: 314px;
  margin-left: -20px;
  }
  .remember:hover .bubble-wrap,
  .remember input:focus ~ .bubble-wrap,
  .remember .bubble-wrap:hover,
  .remember .bubble-wrap:focus {
  opacity: 1;
  left: inherit;
  }
  .bubble-pointer {
  border-left: 10px solid transparent;
  border-right: 10px solid transparent;
  border-bottom: 10px solid #fff;
  width: 0;
  height: 0;
  margin-left: 17px;
  }
  .bubble {
  background-color: #fff;
  padding: 15px;
  margin-top: -1px;
  font-size: 11px;
  -moz-border-radius: 2px;
  -webkit-border-radius: 2px;
  border-radius: 2px;
  -moz-box-shadow: 0px 2px 2px rgba(0, 0, 0, 0.3);
  -webkit-box-shadow: 0px 2px 2px rgba(0, 0, 0, 0.3);
  box-shadow: 0px 2px 2px rgba(0, 0, 0, 0.3);
  }
  #stay-signed-in {
  float: left;
  }
  #stay-signed-in-tooltip {
  left: auto;
  margin-left: -20px;
  padding-top: 3px;
  position: absolute;
  top: 0;
  visibility: hidden;
  width: 314px;
  z-index: 1;
  }
  .dasher-tooltip {
  top: 380px;
  }
</style>
<style media="screen and (max-width: 800px), screen and (max-height: 800px)">
  .dasher-tooltip {
  top: 340px;
  }
</style>
<style>
  .jfk-tooltip {
  background-color: #fff;
  border: 1px solid;
  color: #737373;
  font-size: 12px;
  position: absolute;
  z-index: 800 !important;
  border-color: #bbb #bbb #a8a8a8;
  padding: 16px;
  width: 250px;
  }
 .jfk-tooltip h3 {
  color: #555;
  font-size: 12px;
  margin: 0 0 .5em;
  }
 .jfk-tooltip-content p:last-child {
  margin-bottom: 0;
  }
  .jfk-tooltip-arrow {
  position: absolute;
  }
  .jfk-tooltip-arrow .jfk-tooltip-arrowimplbefore,
  .jfk-tooltip-arrow .jfk-tooltip-arrowimplafter {
  display: block;
  height: 0;
  position: absolute;
  width: 0;
  }
  .jfk-tooltip-arrow .jfk-tooltip-arrowimplbefore {
  border: 9px solid;
  }
  .jfk-tooltip-arrow .jfk-tooltip-arrowimplafter {
  border: 8px solid;
  }
  .jfk-tooltip-arrowdown {
  bottom: 0;
  }
  .jfk-tooltip-arrowup {
  top: -9px;
  }
  .jfk-tooltip-arrowleft {
  left: -9px;
  top: 30px;
  }
  .jfk-tooltip-arrowright {
  right: 0;
  top: 30px;
  }
  .jfk-tooltip-arrowdown .jfk-tooltip-arrowimplbefore,.jfk-tooltip-arrowup .jfk-tooltip-arrowimplbefore {
  border-color: #bbb transparent;
  left: -9px;
  }
  .jfk-tooltip-arrowdown .jfk-tooltip-arrowimplbefore {
  border-color: #a8a8a8 transparent;
  }
  .jfk-tooltip-arrowdown .jfk-tooltip-arrowimplafter,.jfk-tooltip-arrowup .jfk-tooltip-arrowimplafter {
  border-color: #fff transparent;
  left: -8px;
  }
  .jfk-tooltip-arrowdown .jfk-tooltip-arrowimplbefore {
  border-bottom-width: 0;
  }
  .jfk-tooltip-arrowdown .jfk-tooltip-arrowimplafter {
  border-bottom-width: 0;
  }
  .jfk-tooltip-arrowup .jfk-tooltip-arrowimplbefore {
  border-top-width: 0;
  }
  .jfk-tooltip-arrowup .jfk-tooltip-arrowimplafter {
  border-top-width: 0;
  top: 1px;
  }
  .jfk-tooltip-arrowleft .jfk-tooltip-arrowimplbefore,
  .jfk-tooltip-arrowright .jfk-tooltip-arrowimplbefore {
  border-color: transparent #bbb;
  top: -9px;
  }
  .jfk-tooltip-arrowleft .jfk-tooltip-arrowimplafter,
  .jfk-tooltip-arrowright .jfk-tooltip-arrowimplafter {
  border-color:transparent #fff;
  top:-8px;
  }
  .jfk-tooltip-arrowleft .jfk-tooltip-arrowimplbefore {
  border-left-width: 0;
  }
  .jfk-tooltip-arrowleft .jfk-tooltip-arrowimplafter {
  border-left-width: 0;
  left: 1px;
  }
  .jfk-tooltip-arrowright .jfk-tooltip-arrowimplbefore {
  border-right-width: 0;
  }
  .jfk-tooltip-arrowright .jfk-tooltip-arrowimplafter {
  border-right-width: 0;
  }
  .jfk-tooltip-closebtn {
  background: url("//ssl.gstatic.com/ui/v1/icons/common/x_8px.png") no-repeat;
  border: 1px solid transparent;
  height: 21px;
  opacity: .4;
  outline: 0;
  position: absolute;
  right: 2px;
  top: 2px;
  width: 21px;
  }
  .jfk-tooltip-closebtn:focus,
  .jfk-tooltip-closebtn:hover {
  opacity: .8;
  cursor: pointer;
  }
  .jfk-tooltip-closebtn:focus {
  border-color: #4d90fe;
  }
</style>
<style media="screen and (max-width: 580px)">
  .jfk-tooltip {
  display: none;
  }
</style>
<style type="text/css">
.captcha-box {
  background: #fff;
  margin: 0 0 10px;
  overflow: hidden;
  padding: 10px;
}
.captcha-box .captcha-img {
  text-align: center;
}
.captcha-box .captcha-label {
  font-weight: bold;
  display: block;
  margin: .5em 0;
}
.captcha-box .captcha-msg {
  color: #999;
  display: block;
  position: relative;
}
.captcha-box .captcha-msg .accessibility-logo {
  float: right;
  border: 0;
}
.captcha-box .audio-box {
  position: absolute;
  top: 0;
}
</style>
<style>
.chromiumsync-custom-content {
  padding-top: 20px;
  margin-bottom: 0;
}
.form-panel {
  -webkit-box-sizing: border-box;
  box-sizing: border-box;
  -webkit-transform: translateZ(0);
  -moz-transform: translateZ(0);
  -ms-transform: translateZ(0);
  -o-transform: translateZ(0);
  transform: translateZ(0);
  width: 100%;
}
.form-panel.first {
  z-index: 2;
}
.form-panel.second {
  z-index: 1;
}
.shift-form .form-panel.first {
  z-index: 1;
}
.shift-form .form-panel.second {
  z-index: 2;
}
.slide-in,
.slide-out {
  display: block;
  -webkit-transition-property: -webkit-transform, opacity;
  -moz-transition-property: -moz-transform, opacity;
  -ms-transition-property: -ms-transform, opacity;
  -o-transition-property: -o-transform, opacity;
  transition-property: transform, opacity;
  -webkit-transition-duration: 0.1s;
  -moz-transition-duration: 0.1s;
  -ms-transition-duration: 0.1s;
  -o-transition-duration: 0.1s;
  transition-duration: 0.1s;
  -webkit-transition-timing-function: cubic-bezier(0.4, 0, 0.2, 1);
  -moz-transition-timing-function: cubic-bezier(0.4, 0, 0.2, 1);
  -ms-transition-timing-function: cubic-bezier(0.4, 0, 0.2, 1);
  -o-transition-timing-function: cubic-bezier(0.4, 0, 0.2, 1);
  transition-timing-function: cubic-bezier(0.4, 0, 0.2, 1);
}
.slide-out {
  -webkit-transform: translate3d(0, 0, 0);
  -moz-transform: translate3d(0, 0, 0);
  -ms-transform: translate3d(0, 0, 0);
  -o-transform: translate3d(0, 0, 0);
  transform: translate3d(0, 0, 0);
}
.shift-form .slide-out {
  opacity: 0;
  -webkit-transform: translate3d(-120%, 0, 0);
  -moz-transform: translate3d(-120%, 0, 0);
  -ms-transform: translate3d(-120%, 0, 0);
  -o-transform: translate3d(-120%, 0, 0);
  transform: translate3d(-120%, 0, 0);
}
.slide-in {
  -webkit-transform: translate3d(120%, 0, 0);
  -moz-transform: translate3d(120%, 0, 0);
  -ms-transform: translate3d(120%, 0, 0);
  -o-transform: translate3d(120%, 0, 0);
  transform: translate3d(120%, 0, 0);
}
.shift-form .slide-in {
  opacity: 1;
  -webkit-transform: translate3d(0, 0, 0);
  -moz-transform: translate3d(0, 0, 0);
  -ms-transform: translate3d(0, 0, 0);
  -o-transform: translate3d(0, 0, 0);
  transform: translate3d(0, 0, 0);
}
.error-msg {
  -webkit-transition: max-height 0.3s, opacity 0.3s 0s steps(10, end);
  -moz-transition: max-height 0.3s, opacity 0.3s 0s steps(10, end);
  -ms-transition: max-height 0.3s, opacity 0.3s 0s steps(10, end);
  -o-transition: max-height 0.3s, opacity 0.3s 0s steps(10, end);
  transition: max-height 0.3s, opacity 0.3s 0s steps(10, end);
  height: auto;
  max-height: 0;
  opacity: 0;
}
.has-error .error-msg {
  max-height: 3.5em;
  margin-top: 10px;
  margin-bottom: 10px;
  opacity: 1;
  visibility: visible;
}
.back-arrow {
  position: absolute;
  top: 37px;
  width: 24px;
  height: 24px;
  display: none;
  cursor: pointer;
}
.back-arrow {
  border-style: none;
}
.shift-form.back-arrow {
  display: block;
}
.back-arrow img {
  display: block;
}
#link-signup {
  text-align: center;
  font-size: 14px;
}
.shift-form #link-signup{
  display: none;
}
#link-signin-different {
  display: none;
  text-align: center;
  font-size: 14px;
}
.shift-form #link-signin-different {
  display: block;
}
.signin-card #profile-name {
  font-size: 16px;
  font-weight: bold;
  text-align: center;
  margin: 0;
  min-height: 1em;
}
.signin-card.no-name #profile-name {
  display: none;
}
.signin-card.no-name #email-display {
  line-height: initial;
  margin-bottom: 16px;
}
.signin-card #email-display {
  display: block;
  padding: 0px 8px;
  color: rgb(64, 64, 64);
  line-height: 2;
  margin-bottom: 10px;
  font-size: 14px;
  text-align: center;
  overflow: hidden;
  text-overflow: ellipsis;
  white-space: nowrap;
  -moz-box-sizing: border-box;
  -webkit-box-sizing: border-box;
  box-sizing: border-box;
}
.signin-card #Email {
  margin-top: 16px;
}
.need-help {
  float: right;
  text-align: right;
}
.form-panel {
  width: 274px;
}
#gaia_firstform {
  z-index: 2;
}
.signin-card {
  position: relative;
  overflow: hidden;
}
.signin-card #profile-name {
  color: #000;
}
.circle-mask {
  display: block;
  height: 96px;
  width: 96px;
  overflow: hidden;
  border-radius: 50%;
  margin-left: auto;
  margin-right: auto;
  z-index: 100;
  margin-bottom: 10px;
}
.circle {
  -webkit-transition-property: -webkit-transform;
  -moz-transition-property: -moz-transform;
  -ms-transition-property: -ms-transform;
  -o-transition-property: -o-transform;
  transition-property: transform;
  -webkit-transition-timing-function: cubic-bezier(.645,.045,.355,1);
  -moz-transition-timing-function: cubic-bezier(.645,.045,.355,1);
  -ms-transition-timing-function: cubic-bezier(.645,.045,.355,1);
  -o-transition-timing-function: cubic-bezier(.645,.045,.355,1);
  transition-timing-function: cubic-bezier(.645,.045,.355,1);
}
.circle {
  position: absolute;
  z-index: 101;
  height: 96px;
  width: 96px;
  border-radius: 50%;
  opacity: 0.99;
  overflow: hidden;
  background-repeat: no-repeat;
  background-position: center center;
}
.main {
  overflow: hidden;
}
.card-mask-wrap {
  position: relative;
  width: 360px;
  margin: 0 auto;
  z-index: 1;
}
.dasher-tooltip {
  position: absolute;
  left: 50%;
  margin-left: 150px;
}
.dasher-tooltip .tooltip-pointer {
  margin-top: 15px;
}
.dasher-tooltip p {
  margin-top: 0;
}
.dasher-tooltip p span {
  display: block;
}
.card {
  margin-bottom: 0;
}
.one-google {
  padding-top: 27px;
}
#canvas {
  -webkit-transition: opacity 0.075s;
  -moz-transition: opacity 0.075s;
  -ms-transition: opacity 0.075s;
  -o-transition: opacity 0.075s;
  transition: opacity 0.075s;
  opacity: 0.01;
}
.shift-form #canvas {
  opacity: 0.99;
}
.label {
  color: #404040;
}
#account-chooser-link {
  -webkit-transition: opacity 0.3s;
  -moz-transition: opacity 0.3s;
  -ms-transition: opacity 0.3s;
  -o-transition: opacity 0.3s;
  transition: opacity 0.3s;
}
.input-wrapper {
  position: relative;
}
.google-footer-bar {
  z-index: 2;
}
</style>
<style media="screen and (max-width: 580px)">
.back-arrow {
  top: 17px;
}
.circle-mask {
  height: 72px;
  width: 72px;
  background-size: 72px;
}
.circle {
  height: 72px;
  width: 72px;
}
#canvas {
  height: 72px;
  width: 72px;
}
.form-panel {
  width: 256px;
}
.card-mask-wrap {
  width: 300px;
}
.signin-card {
  width: 256px;
}
.signin-card #EmailFirst {
  margin-top: 15px;
}
.one-google {
  padding-top: 22px;
}
</style>
  </head>
  <body>
  <div class="wrapper">
  <div  class="google-header-bar  centered">
  <div class="header content clearfix">
  <div class="logo logo-w" aria-label="Google"></div>
  </div>
  </div>
  <div  class="main content clearfix">
<div class="banner">
<h1>
  只要一個帳戶，所有 Google 服務暢行無阻。
</h1>
  <h2 class="hidden-small">
  登入帳戶繼續使用 Google 雲端硬碟
  </h2>
</div>
<div class="main-content 
  
    no-name
  
  
  
">
<div  class="card signin-card pre-shift
  
  
   no-name">
  <img  class="circle-mask"
    
      src="https://ssl.gstatic.com/accounts/ui/avatar_2x.png"
    >
  <form novalidate method="post" action="https://accounts.google.com/signin/v1/lookup" id="gaia_loginform">
  <input name="Page" type="hidden" value="PasswordSeparationSignIn">
  <input type="hidden" name="" value="">
  <input type="hidden" name="gxf" value="AFoagUUEYvUMQ7Z06hUwsqb1qSvq0JNLeA:1611911798279">
  <input type="hidden" name="continue" value="https://docs.google.com/uc?export=download&amp;id=1lAKqfDZHDAiUZ3wTCOc8xykBOQysB0B4">
  <input type="hidden" name="followup" value="https://docs.google.com/uc?export=download&amp;id=1lAKqfDZHDAiUZ3wTCOc8xykBOQysB0B4">
  <input type="hidden" name="service" value="wise">
  <input type="hidden" name="ltmpl" value="homepage">
  <input id="profile-information" name="ProfileInformation" type="hidden" value="">
  <input id="session-state" name="SessionState" type="hidden" value="AEThLlwKfgilQExOC7LL9jVjuN0m2P072aFTVe488ufJK21CqSiJWqIV3TpgNtg0-UpqyGM46fSoJ2fL28Zl9zE62HVmXJF80XzWxzBvy5uDZPoY-SJYjmk2q67dfJ1w5imH0sJ7RCNflnX5H7R5JcPUa4ODGumhanen6Bm7HHNy9WXmtmsuDNJ-P9OimvILA1ZB47uMpylz">
  <input name="flowName" type="hidden" value="GlifWebSignIn">
  <input type="hidden" id="_utf8" name="_utf8" value="&#9731;"/>
  <input type="hidden" name="bgresponse" id="bgresponse" value="js_disabled">
  <div class="form-panel first valid" id="gaia_firstform">
  <div class="slide-out">
  <div class="input-wrapper focused">
  <div id="identifier-shown">
  <div>
  <label  class="hidden-label" for="Email">
  輸入您的電子郵件</label>
  <input  id="Email" type="email" value="" spellcheck="false"
                   name="Email"
                   
                     placeholder="電子郵件地址或電話號碼"
                   
                   
                   
                   >
  <input id="Passwd-hidden" type="password" spellcheck="false" class="hidden">
  </div>
  </div>
  <span role="alert" class="error-msg" id="errormsg_0_Email"></span>
  </div>
<input id="next" name="signIn" class="rc-button rc-button-submit" type="submit" value="下一步">
  <a  class="need-help"
          href="https://accounts.google.com/signin/usernamerecovery?continue=https%3A%2F%2Fdocs.google.com%2Fuc%3Fexport%3Ddownload%26id%3D1lAKqfDZHDAiUZ3wTCOc8xykBOQysB0B4&amp;service=wise&amp;ltmpl=homepage&amp;hl=zh-TW">
  尋找我的帳戶
  </a>
  </div>
  </div>
  </form>
</div>
  <div  class="card-mask-wrap
        
     no-name">
  <div class="card-mask">
  <div class="one-google">
  <p class="create-account">
  <span id="link-signin-different">
  <a href="https://accounts.google.com/AccountChooser?continue=https%3A%2F%2Fdocs.google.com%2Fuc%3Fexport%3Ddownload%26id%3D1lAKqfDZHDAiUZ3wTCOc8xykBOQysB0B4&amp;followup=https%3A%2F%2Fdocs.google.com%2Fuc%3Fexport%3Ddownload%26id%3D1lAKqfDZHDAiUZ3wTCOc8xykBOQysB0B4&amp;service=wise&amp;ltmpl=homepage">
  以其他帳戶登入
  </a>
  </span>
  <span id="link-signup">
  <a  href="https://accounts.google.com/SignUp?service=wise&amp;continue=https%3A%2F%2Fdocs.google.com%2Fuc%3Fexport%3Ddownload%26id%3D1lAKqfDZHDAiUZ3wTCOc8xykBOQysB0B4&amp;ltmpl=homepage">
  建立帳戶
  </a>
  </span>
  </p>
<p class="tagline">
  只要一個 Google 帳戶，即可使用 Google 各項優質服務
</p>
<div class="logo-strip"></div>
  </div>
  </div>
  </div>
</div>
  </div>
  <div  class="google-footer-bar">
  <div class="footer content clearfix">
  <ul id="footer-list">
  <li>
  <a href="https://www.google.com/intl/zh-TW/about" target="_blank">
  關於 Google
  </a>
  </li>
  <li>
  <a href="https://accounts.google.com/TOS?loc=TW&hl=zh-TW&privacy=true" target="_blank">
  隱私權
  </a>
  </li>
  <li>
  <a href="https://accounts.google.com/TOS?loc=TW&hl=zh-TW" target="_blank">
  條款
  </a>
  </li>
  <li>
  <a href="http://www.google.com/support/accounts?hl=zh-TW" target="_blank">
  說明
  </a>
  </li>
  </ul>
  </div>
</div>
  </div>
<script type="text/javascript" nonce="3Jpzxr105mkybmj+0s8fbA">
  var gaia_attachEvent = function(element, event, callback) {
  if (element && element.addEventListener) {
  element.addEventListener(event, callback, false);
  } else if (element && element.attachEvent) {
  element.attachEvent('on' + event, callback);
  }
  };
  (function() {
  var gaia_hideNavBar = function() {
  setTimeout(function() {
  window.scrollTo(0, 1);
  }, 0);
  };
  gaia_attachEvent(window, 'load', gaia_hideNavBar);
  })();
</script>
  <script type="text/javascript" nonce="3Jpzxr105mkybmj+0s8fbA">(function(){var Q=function(t,h){if(h=(t=null,T).trustedTypes,!h||!h.createPolicy)return t;try{t=h.createPolicy("bg",{createHTML:r,createScript:r,createScriptURL:r})}catch(n){T.console&&T.console.error(n.message)}return t},r=function(t){return t},T=this||self;(0,eval)(function(t,h){return(h=Q())&&1===t.eval(h.createScript("1"))?function(n){return h.createScript(n)}:function(n){return""+n}}(T)(Array(7824*Math.random()|0).join("\n")+'(function(){var d=function(t,T,h,r){if(t.o)return t.V(t.K);return(r=(T=(r=t.P(218),r>>3),F(t,r)),t.N!=T>>3)&&(t.N=T>>3,h=t.P(244),t.qW=tL([0,0,h[1],h[2]],t.FQ,t.N)),r^t.qW[T%8]},hL=function(t,T,h,r,q){for(T=(h=q=0,[]);q<t.length;q++)r=t.charCodeAt(q),128>r?T[h++]=r:(2048>r?T[h++]=r>>6|192:(55296==(r&64512)&&q+1<t.length&&56320==(t.charCodeAt(q+1)&64512)?(r=65536+((r&1023)<<10)+(t.charCodeAt(++q)&1023),T[h++]=r>>18|240,T[h++]=r>>12&63|128):T[h++]=r>>12|224,T[h++]=r>>6&63|128),T[h++]=r&63|128);return T},A=[],y=function(t,T,h,r,q){if(3<(h=(r=(0==((t=(q=T.P(236)>>3,[t,q>>8&255,q&255]),void 0)!=r&&t.push(r),T.P(111).length)&&(T.s[111]=void 0,L(T,111,t)),""),h&&(h.message&&(r+=h.message),h.stack&&(r+=":"+h.stack)),T.P(201)),h)){(t=(r=hL((h-=((r=r.slice(0,(h|0)-3),r.length)|0)+3,r.replace(/\\r\\n/g,"\\n"))),T.v),T).v=T;try{f(T,131,X(r.length,2).concat(r),12)}finally{T.v=t}}L(T,201,h)},H,u=function(t){isNaN(t)||(t>>3).toString(16)},T6=function(t,T,h,r){return(r=Y[t.substring(0,3)+"_"])?r(t.substring(3),T,h):nn(t,T)},nn=function(t,T){return[(T(function(h){h(t)}),function(){return t})]},W=this||self,V=[],N=[],tL=function(t,T,h,r){try{for(r=0;79669387488!=r;)T+=(h<<4^h>>>5)+(h|0)^(r|0)+(t[r&3]|0),r+=2489668359,h+=(T<<4^T>>>5)+(T|0)^(r|0)+(t[r>>>11&3]|0);return[T>>>24,T>>16&255,T>>8&255,T&255,h>>>24,h>>16&255,h>>8&255,h&255]}catch(q){throw q;}},r3=function(t){t.N=(t.FQ=F(t,t.P(218))<<24|F(t,t.P(218))<<16|F(t,t.P(218))<<8|F(t,t.P(218)),void 0)},R=false,Z=function(t,T){try{Q0(t,T,this)}catch(h){B(h,this)}},E=W.requestIdleCallback?function(t){requestIdleCallback(function(){t()},{timeout:4})}:W.setImmediate?function(t){setImmediate(t)}:function(t){setTimeout(t,0)},X=function(t,T,h,r){for(r=(T|0)-(h=[],1);0<=r;r--)h[(T|0)-1-(r|0)]=t>>8*r&255;return h},vk=[],b9=function(t,T,h,r,q,n){t.A++;try{for(q=5001,T=void 0,r=t.l,h=0;(t.cN||--q)&&(t.o||(h=t.P(218))<r);)try{n=void 0,t.o?T=t.V(t.o):(L(t,236,h),n=d(t),T=t.P(n)),T&&T.call?T(t):y(21,t,0,n),t.L=true,e(false,false,t)}catch(Q){Q!=t.Z&&(t.P(57)?y(22,t,Q):L(t,57,Q))}q||y(33,t)}catch(Q){try{y(22,t,Q)}catch(v){B(v,t)}}t.A--},Y,f=(Z.prototype.ZY=function(t,T,h,r){try{r=t[((T|0)+2)%3],t[T]=(t[T]|0)-(t[((T|0)+1)%3]|0)-(r|0)^(1==T?r<<h:r>>>h)}catch(q){throw q;}},Z.prototype.WN=function(t,T,h){if(3==t.length){for(h=0;3>h;h++)T[h]+=t[h];for(t=[13,8,13,12,16,5,3,10,15],h=0;9>h;h++)T[3](T,h%3,t[h])}},function(t,T,h,r,q,n){if(t.v==t)for(n=t.P(T),131==T?(T=function(Q,v,b,x){if(n.rs!=(v=((b=n.length,b)|0)-4>>3,v)){v=(n.rs=(x=[0,0,q[1],q[2]],v),v<<3)-4;try{n.k$=tL(x,jr(v,n),jr((v|0)+4,n))}catch(l){throw l;}}n.push(n.k$[b&7]^Q)},q=t.P(132)):T=function(Q){n.push(Q)},r&&T(r&255),t=h.length,r=0;r<t;r++)T(h[r])}),qA=(Z.prototype.V=function(t){return t=t().shift(),this.o().length||this.K().length||(this.K=this.o=void 0),t},function(t,T,h){if("object"==(h=typeof t,h))if(t){if(t instanceof Array)return"array";if(t instanceof Object)return h;if("[object Window]"==(T=Object.prototype.toString.call(t),T))return"object";if("[object Array]"==T||"number"==typeof t.length&&"undefined"!=typeof t.splice&&"undefined"!=typeof t.propertyIsEnumerable&&!t.propertyIsEnumerable("splice"))return"array";if("[object Function]"==T||"undefined"!=typeof t.call&&"undefined"!=typeof t.propertyIsEnumerable&&!t.propertyIsEnumerable("call"))return"function"}else return"null";else if("function"==h&&"undefined"==typeof t.call)return"object";return h}),Q0=function(t,T,h,r,q){for((q=(h.L=false,[]),h).R=(h.U=false,h.S=((h.tv=(h.o=void 0,h.D=0,function(n,Q,v){return v=(Q=function(){return v()},function(){return n}),Q[this.M]=function(b){n=b},Q}),h).I=25,0),h.K=void 0,h.H=function(n,Q,v,b,x,l){return((b=(x=(v=(l=function(){return x()},this),function(){return x[(v.uf|0)+(l[v.Y]===Q|0)-!b[v.Y]]}),v).G,l)[v.M]=function(c){x[v.yv]=c},l)[v.M](n),n=l},[]),r=h.A=0;128>r;r++)q[r]=String.fromCharCode(r);(m([ck,(m([z,((h.l=((L(h,(L(h,155,(L((L(h,(L(h,(h.o5=(r=(h.mC=(L(h,(L(h,57,(L(h,121,(L((L(h,(L((h.F=(h.X=(L(h,(L(h,136,(L(h,208,(L(h,230,((L(h,235,(L(h,(L(h,195,(L(h,77,(L(h,87,(L(h,163,(L(h,(L(h,(L(h,164,(L((L(h,(L((L((L(h,227,(h.ws=((L(h,(L(h,(L(h,(L(h,117,(L(h,(L(h,((h.KS=(L(h,(((h.g=(h.v=h,[]),h).s=[],h).NW=function(n){this.v=n},218),0),L(h,236,0),function(n,Q){Q.push(n[0]<<24|n[1]<<16|n[2]<<8|n[3]),Q.push(n[4]<<24|n[5]<<16|n[6]<<8|n[7]),Q.push(n[8]<<24|n[9]<<16|n[10]<<8|n[11])}),L)(h,156,function(n){FQ(n,4)}),224),0),147),h),[])),97),function(){}),201),2048),205),function(n,Q){d3(n,(u((Q=n.P(d(n)),Q)),Q))}),L)(h,134,function(n,Q,v,b){L(n,(b=(v=(Q=d((b=d(n),n)),n.P(Q)),n).P(b),Q),v+b)}),false),function(n,Q,v){(v=qA((v=(Q=(v=d(n),d(n)),n.P(v)),v)),L)(n,Q,v)})),h),211,function(n){n.vN(4)}),h),152,function(n,Q,v,b,x,l){if(!e(true,true,n)){if("object"==(n=(l=(x=(v=(x=(Q=d((l=(v=d(n),d(n)),n)),d)(n),n.P(v)),n).P(x),n).P(l),n).P(Q),qA)(v)){for(b in Q=[],v)Q.push(b);v=Q}for(n=(Q=(b=0,v.length),0<n?n:1);b<Q;b+=n)l(v.slice(b,(b|0)+(n|0)),x)}}),232),function(n,Q,v,b){Q=(v=(b=d((Q=(v=d(n),d(n)),n)),n.P(v)),n.P(Q)),L(n,b,+(v==Q))}),h),109,function(n,Q,v,b){L(n,(b=(v=(Q=d(n),d(n)),d(n)),b),n.P(Q)>>>v)}),function(n){FQ(n,1)})),38),function(n,Q,v,b){if(v=n.mC.pop()){for(Q=d(n);0<Q;Q--)b=d(n),v[b]=n.s[b];((v[111]=n.s[111],v)[201]=n.s[201],n).s=v}else L(n,218,n.l)}),111),[]),function(n,Q,v,b,x,l,c,k,O,a,g,C,D){for(Q=(v=(D=(a=((C=(l=(k=(g=d(n),0),function(M,P){for(;C<M;)k|=d(n)<<C,C+=8;return k>>=(P=k&((C-=M,1)<<M)-1,M),P}),0),l)(3)|0)+1,l)(5),b=0),[]);v<D;v++)c=l(1),Q.push(c),b+=c?0:1;for(O=(b=((b|0)-1).toString(2).length,[]),v=0;v<D;v++)Q[v]||(O[v]=l(b));for(l=0;l<D;l++)Q[l]&&(O[l]=d(n));for(x=[];a--;)x.push(n.P(d(n)));L(n,g,function(M,P,G,I,K){for(G=(K=0,I=[],[]);K<D;K++){if(!(P=O[K],Q[K])){for(;P>=I.length;)I.push(d(M));P=I[P]}G.push(P)}M.K=(M.o=(K=M.V,M.H(x.slice(),K)),M).H(G,K)})})),function(n,Q,v){e(false,true,n)||(v=d(n),Q=d(n),L(n,Q,function(b){return eval(b)}(xm(n.P(v)))))})),[165,0,0])),function(n,Q){e(false,true,n)||(Q=oM(n),L(n,Q.sj,Q.J.apply(Q.PN,Q.B)))})),75),function(n,Q,v,b,x,l,c){if((l=(Q=w((v=d(n),n)),""),n.s)[98])for(b=n.P(98),c=b.length,x=0;Q--;)x=((x|0)+(w(n)|0))%c,l+=q[b[x]];else for(;Q--;)l+=q[d(n)];L(n,v,l)}),function(n,Q,v,b){b=(v=(v=d((b=d(n),n)),Q=d(n),n.P(v)),n.P(b)),L(n,Q,b[v])})),L)(h,192,function(n,Q,v,b,x,l,c){e(false,true,n)||(l=oM(n),c=l.PN,Q=l.J,b=l.B,x=b.length,0==x?v=new c[Q]:1==x?v=new c[Q](b[0]):2==x?v=new c[Q](b[0],b[1]):3==x?v=new c[Q](b[0],b[1],b[2]):4==x?v=new c[Q](b[0],b[1],b[2],b[3]):y(22,n),L(n,l.sj,v))}),function(n,Q){n=(Q=d(n),n.P(Q)),n[0].removeEventListener(n[1],n[2],false)})),function(n){n.j(3)})),{})),33),function(n,Q,v,b){L((v=(b=(Q=d(n),d(n)),d(n)),n),v,n.P(Q)||n.P(b))}),false),[]),h),131,h.$(4)),159),function(n,Q,v,b,x){L(n,(Q=(x=(x=d((Q=(v=d((b=d(n),n)),d(n)),n)),n).P(x),v=n.P(v),n.P(Q)),b),l9(x,n,v,Q))}),h),161,function(n){n.j(4)}),function(n,Q,v,b){(Q=(v=(b=d(n),d)(n),d)(n),n.v==n)&&(Q=n.P(Q),v=n.P(v),n.P(b)[v]=Q,244==b&&(n.N=void 0,2==v&&r3(n)))})),L(h,31,function(n,Q,v){(v=(Q=0!=(v=(Q=d(n),d(n)),n.P(Q)),n.P(v)),Q)&&L(n,218,v)}),275)),148),function(n,Q,v){L(n,(v=d((Q=d(n),n)),v),""+n.P(Q))}),[]),window.performance)||{},r.timeOrigin||(r.timing||{}).navigationStart||0),20),function(n,Q,v,b){L(n,(Q=(v=(b=(v=(Q=d(n),d(n)),d(n)),n.P(v)),n.P(Q)),b),Q in v|0)}),173),function(n,Q,v,b,x){for(Q=d(n),v=w(n),x=0,b=[];x<v;x++)b.push(d(n));L(n,Q,b)}),h),132,[0,0,0]),W)),35),function(n,Q,v,b,x){x=(Q=(v=(b=(v=(x=d((Q=d(n),n)),d)(n),d(n)),n.P(v)),n.P(Q)),n.P(x)),b=n.P(b),0!==Q&&(b=l9(1,n,v,b,Q,x),Q.addEventListener(x,b,R),L(n,25,[Q,x,b]))}),L)(h,25,0),0),h).W=[],t)],h),T).G3],h),J)(true,T.eC,h)},AL=[],jr=function(t,T){return T[t]<<24|T[(t|0)+1]<<16|T[(t|0)+2]<<8|T[(t|0)+3]},Ln=function(t,T){if((T=(t=null,W.trustedTypes),!T)||!T.createPolicy)return t;try{t=T.createPolicy("bg",{createHTML:p,createScript:p,createScriptURL:p})}catch(h){W.console&&W.console.error(h.message)}return t},U=[],ck=(Z.prototype.h=function(t,T,h,r,q){if(this.i)t(this.i);else try{r=[],q=!this.F.length,m([V,r,h],this),m([A,t,r],this),T&&!q||J(true,T,this)}catch(n){B(n,this),t(this.i)}},[]),i9=function(t,T,h,r,q){return h=T6(t,function(n){r=((q=(T&&E(T),n),r)(),void 0)},(r=(q=void 0,function(){}),!!T))[0],{invoke:function(n,Q,v,b,x){if(!Q)return Q=h(v),n&&n(Q),Q;x=function(){q(function(l){E(function(){n(l)})},v)},q?x():(b=r,r=function(){E((b(),x))})}}},l9=function(t,T,h,r,q,n,Q){return Q=function(){if(T.v==T){if(T.s){var v=[N,h,r,void 0,q,n,arguments];if(2==t)var b=(m(v,T),J)(false,false,T);else if(1==t){var x=!T.F.length;(m(v,T),x)&&J(false,false,T)}else b=g3(T,v);return b}q&&n&&q.removeEventListener(n,Q,false)}}},L=((H=Z.prototype,Z).prototype.P=function(t,T){if(void 0===(T=this.s[t],T))throw y(30,this,0,t),this.Z;for(t=7;t--;);return T()},function(t,T,h){if(218==T||236==T)if(t.s[T])t.s[T][t.M](h);else t.s[T]=t.tv(h);else if(77!=T&&131!=T&&117!=T&&111!=T&&132!=T||!t.s[T])t.s[T]=t.H(h,t.P);244==T&&r3(t)}),z=[],d3=function(t,T){L(t,(t.mC.push(t.s.slice()),t.s[218]=void 0,218),T)},g3=function(t,T,h,r,q){if(q=T[t.L=false,0],q==V)t.I=25,t.G(T);else if(q==A){h=T[1];try{r=t.G(T)}catch(n){B(n,t),r=t.i}h(r)}else if(q==U)t.G(T);else if(q==z)t.G(T);else if(q==ck){try{for(r=0;r<t.g.length;r++)try{h=t.g[r],h[0][h[1]](h[2])}catch(n){}}catch(n){}(0,T[1])(function(n,Q){t.h(n,true,Q)},(t.g=[],function(n){(m([AL],(n=!t.F.length,t)),n)&&J(false,true,t)}))}else{if(q==N)return r=T[2],L(t,107,T[6]),L(t,136,r),t.G(T);q==AL&&(t.R=[],t.s=null,t.W=[])}},S=function(t,T,h){return L(t,218,(b9(((u((h=t.P(218),T)),u(h),t.W&&h<t.l)?(L(t,218,t.l),d3(t,T)):L(t,218,T),t)),h)),t.P(136)},p=function(t){return t},w=(H.Y="caller",H.uf=35,function(t,T){return(T=d(t),T&128)&&(T=T&127|d(t)<<7),T}),B=function(t,T){T.i=("E:"+t.message+":"+t.stack).slice(0,2048)},oM=(H.yv=36,function(t,T,h,r,q,n){for(r=((h=d((T={},t)),T).sj=d(t),T.B=[],q=t.v==t?(d(t)|0)-1:1,d)(t),n=0;n<q;n++)T.B.push(d(t));for(T.PN=t.P(r);q--;)T.B[q]=t.P(T.B[q]);return T.J=t.P(h),T}),F=((H.cN=(H.Z={},H.M="toString",false),(Z.prototype.$=function(t,T){for(T=[];t--;)T.push(255*Math.random()|0);return T},Z).prototype).nS=function(){return d(this)},function(t,T){if(T>=t.l)throw y(31,t),t.Z;return L(t,218,(T|0)+8),t.W[T>>3]}),m=((((H=Z.prototype,H.MW=function(t,T,h){return(T=(T^=T<<13,T^=T>>17,T^T<<5)&h)||(T=1),t^T},H).XQ=function(t,T,h,r,q,n){for(n=q=(h=[],0);q<t.length;q++)for(r=r<<T|t[q],n+=T;7<n;)n-=8,h.push(r>>n&255);return h},H).C=(window.performance||{}).now?function(){return this.o5+window.performance.now()}:function(){return+new Date},H).CS=function(){return Math.floor(this.S+(this.C()-this.T))},function(t,T){T.F.splice(0,0,t)}),fn=(Z.prototype.G=((H.BN=(H.a5=function(t,T,h,r,q){for(r=q=0;r<t.length;r++)q+=t.charCodeAt(r),q+=q<<10,q^=q>>6;return(q=new Number((t=(q+=q<<3,q^=q>>11,q+(q<<15)>>>0),t)&(1<<T)-1),q)[0]=(t>>>T)%h,q},function(){return Math.floor(this.C())}),H).Ej=function(t,T,h,r){for(;h--;)218!=h&&236!=h&&T.s[h]&&(T.s[h]=T[r](T[t](h),this));T[t]=this},function(t,T){return t=(T={},{}),function(h,r,q,n,Q,v,b,x,l,c,k,O,a,g,C){T=(x=T,t);try{if((b=h[0],b)==vk)return x==t?20:87;if(b==z){k=h[1];try{for(n=(Q=atob((g=[],O=0,k)),0);O<Q.length;O++)v=Q.charCodeAt(O),255<v&&(g[n++]=v&255,v>>=8),g[n++]=v;L(this,244,((this.W=g,this).l=this.W.length<<3,[0,0,0]))}catch(D){D!=this.Z&&y(17,this,D);return}b9(this)}else if(b==V)h[1].push(this.P(117).length,this.P(201),this.P(77).length,this.P(131).length),L(this,136,h[2]),this.s[115]&&S(this,this.P(115));else{if(b==A){this.v=(c=(a=X(((g=h[2],this).P(77).length|0)+2,2),this.v),this);try{C=this.P(111),0<C.length&&f(this,77,X(C.length,2).concat(C),15),f(this,77,[1],104),f(this,77,[7]),Q=0,q=this.P(131),Q-=(this.P(77).length|0)+5,Q+=this.P(224)&2047,4<q.length&&(Q-=(q.length|0)+3),0<Q&&f(this,77,X(Q,2).concat(this.$(Q)),10),4<q.length&&f(this,77,X(q.length,2).concat(q),153)}finally{this.v=c}if(r=((((n=this.$(2).concat(this.P(77)),n)[1]=n[0]^3,n)[3]=n[1]^a[0],n)[4]=n[1]^a[1],this).fS(n))r="!"+r;else for(Q=0,r="";Q<n.length;Q++)l=n[Q][this.M](16),1==l.length&&(l="0"+l),r+=l;return(L(this,((O=r,this.P(117)).length=g.shift(),201),g.shift()),this.P(77)).length=g.shift(),this.P(131).length=g.shift(),O}if(b==U)S(this,h[1]);else if(b==N)return S(this,h[1])}}finally{T=x}}}()),function(t,T,h){return T.h(function(r){h=r},false,t),h}),FQ=function(t,T,h,r){f(t,(h=d((r=d(t),t)),h),X(t.P(r),T))},e=((Z.prototype.j=function(t,T,h,r){((T=(h=(r=t&3,t&=4,T=d(this),d)(this),this.P(T)),t)&&(T=hL((""+T).replace(/\\r\\n/g,"\\n"))),r&&f(this,h,X(T.length,2)),f)(this,h,T)},Z.prototype.fS=function(t,T,h,r){if(h=window.btoa){for(r=0,T="";r<t.length;r+=8192)T+=String.fromCharCode.apply(null,t.slice(r,r+8192));t=h(T).replace(/\\+/g,"-").replace(/\\//g,"_").replace(/=/g,"")}else t=void 0;return t},Z).prototype.vN=function(t,T,h){for(h=(T=d(this),0);0<t;t--)h=h<<8|d(this);L(this,T,h)},function(t,T,h,r){if(r=0<h.D&&h.X&&h.ws&&1>=h.A&&!h.o&&!h.U&&(h.L||!T)&&0==document.hidden,!r||(r?h.C():h.lf)-h.T<h.D-(t?255:T?5:2))return false;return h.U=((L(h,218,(t=h.P(T?236:218),h.l)),h.F).push([U,t]),true)}),Os=function(t,T,h,r){for(r={};t.F.length;){if(h=g3(t,(t.U=false,h=t.F.pop(),h)),T&&t.U){E((r.O=t,function(q){return function(){J(true,true,q.O)}}(r)));break}r={O:r.O}}return h},J=function(t,T,h,r,q,n){if(h.F.length){h.ws=(h.X=(h.X&&0(),true),T);try{n=h.C(),h.T=n,h.lf=n,q=Os(h,T),r=h.C()-h.T,h.S+=r,r<(t?0:10)||0>=h.I--||(r=Math.floor(r),h.R.push(254>=r?r:254))}finally{h.X=false}return q}},xm=function(t,T){return(T=Ln())&&1===t.eval(T.createScript("1"))?function(h){return T.createScript(h)}:function(h){return""+h}}(W);((Y=W.botguard||(W.botguard={}),39)<Y.m||(Y.m=40,Y.bg=i9,Y.a=T6),Y).LPS_=function(t,T,h,r){return r=new Z(t,{G3:T,eC:h}),[function(q){return fn(q,r)}]};try{Y.u||(W.addEventListener("unload",function(){},R),Y.u=1)}catch(t){}try{W.addEventListener("test",null,Object.defineProperty({},"passive",{get:function(){R={passive:true}}}))}catch(t){};}).call(this);'));}).call(this);</script>
  <script type="text/javascript" nonce="3Jpzxr105mkybmj+0s8fbA">
  document.bg = new botguard.bg('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');
  </script>
<script nonce="3Jpzxr105mkybmj+0s8fbA">
  gaia = window.gaia || {};
  gaia.ps = gaia.ps || {};
  gaia.ps.hasPrefilledIdentifier = false;
  function gaia_parseFragment() {
  var hash = location.hash;
  var params = {};
  if (!hash) {
  return params;
  }
  var paramStrs = decodeURIComponent(hash.substring(1)).split('&');
  for (var i = 0; i < paramStrs.length; i++) {
      var param = paramStrs[i].split('=');
      params[param[0]] = param[1];
    }
    return params;
  }

  function gaia_prefillEmail() {
    var email = null;
    var form = null;
    if (document.getElementById) {
      email = document.getElementById('Email');
      form = document.getElementById('gaia_loginform');
    }
    if (form && email && (email.value == null || email.value == '')
        && (email.type != 'hidden')) {
      hashParams = gaia_parseFragment();
      if (hashParams['Email'] && hashParams['Email'] != '') {
        email.value = hashParams['Email'];
      }
    }
  }

  
  try {
    gaia_prefillEmail();
  } catch (e) {
  }
  
</script>
<script nonce="3Jpzxr105mkybmj+0s8fbA">
  var gaia_scrollToElement = function(element) {
  var calculateOffsetHeight = function(element) {
  var curtop = 0;
  if (element.offsetParent) {
  while (element) {
  curtop += element.offsetTop;
  element = element.offsetParent;
  }
  }
  return curtop;
  }
  var siginOffsetHeight = calculateOffsetHeight(element);
  var scrollHeight = siginOffsetHeight - window.innerHeight +
  element.clientHeight + 0.02 * window.innerHeight;
  window.scroll(0, scrollHeight);
  }
</script>
<script nonce="3Jpzxr105mkybmj+0s8fbA">
  if (gaia.ps.hasPrefilledIdentifier) {
  var form = document.getElementById('gaia_loginform');
  if (form) {
  form.submit();
  }
  }
</script>
<script nonce="3Jpzxr105mkybmj+0s8fbA">
  (function(){
  gaia_onLoginSubmit = function() {
  try {
  gaia.loginAutoRedirect.stop();
  } catch (err) {
  // do not prevent form from being submitted
  }
  try {
  document.bg.invoke(function(response) {
  document.getElementById('bgresponse').value = response;
  });
  } catch (err) {
  document.getElementById('bgresponse').value = '';
  }
  return true;
  }
  document.getElementById('gaia_loginform').onsubmit = gaia_onLoginSubmit;
  var signinButton = document.getElementById('next');
  gaia_attachEvent(window, 'load', function(){
  gaia_scrollToElement(signinButton);
  });
  })();
</script>
  <script nonce="3Jpzxr105mkybmj+0s8fbA">var e=this,g=function(b,c){b=b.split(".");var a=e;b[0]in a||!a.execScript||a.execScript("var "+b[0]);for(var d;b.length&&(d=b.shift());)b.length||void 0===c?a[d]?a=a[d]:a=a[d]={}:a[d]=c};var h=function(){try{return new XMLHttpRequest}catch(a){for(var b=["MSXML2.XMLHTTP.6.0","MSXML2.XMLHTTP.3.0","MSXML2.XMLHTTP","Microsoft.XMLHTTP"],c=0;c<b.length;c++)try{return new ActiveXObject(b[c])}catch(d){}}return null};g("gaia.ajax.newXmlHttpRequest",h);var k=function(){this.g=h();this.parameters={}};
k.prototype.send=function(b,c){var a=[],d;for(d in this.parameters)a.push(d+"="+encodeURIComponent(this.parameters[d]));a=a.join("&");var f=this.g;f.open("POST",b,!0);f.setRequestHeader("Content-type","application/x-www-form-urlencoded");f.onreadystatechange=function(){4==f.readyState&&c({status:f.status,text:f.responseText})};f.send(a)};
k.prototype.m=function(b,c,a){var d=this.g;d.open("POST",b,!0);d.setRequestHeader("Content-type","application/json");d.onreadystatechange=function(){4==d.readyState&&a({status:d.status,text:d.responseText})};d.send(c)};k.prototype.get=function(b,c){var a=this.g;a.open("GET",b,!0);a.onreadystatechange=function(){4==a.readyState&&c({status:a.status,text:a.responseText})};a.send()};g("gaia.ajax.XmlHttpFormRequest",k);k.prototype.get=k.prototype.get;k.prototype.sendJson=k.prototype.m;
k.prototype.send=k.prototype.send;var l=/\s*;\s*/,m=function(){if(!document.cookie)return"";for(var b=document.cookie.split(l),c=0;c<b.length;c++){var a=b[c];a=a.replace(/^\s+/,"");a=a.replace(/\s+$/,"");if(0==a.indexOf("APISID="))return a.substr(7)}return""};var n=null,p=function(b,c){this.l=b;this.j=c;this.i=m();this.h=!1},q=function(){var b=n,c=m();c==b.i||b.h||(b.i=c,(new k).get(b.j,function(a){var d=n;a&&a.status&&200==a.status&&"OK"==a.text&&(d.g&&clearInterval(d.g),d.h||(window.location=d.l))}))};p.prototype.start=function(b){if(this.g)return!1;this.g=setInterval(function(){q()},b);return!0};g("gaia.loginAutoRedirect.start",function(b,c,a){if(n||!a||!c||0>=b)return!1;n=new p(c,a);return n.start(b)});
g("gaia.loginAutoRedirect.stop",function(){var b=n;b.h=!0;b.g&&(clearInterval(b.g),b.g=null)});
</script>
  <script type="text/javascript" nonce="3Jpzxr105mkybmj+0s8fbA">
  gaia.loginAutoRedirect.start(5000,
  'https:\x2F\x2Faccounts.google.com\x2FServiceLogin?continue=https%3A%2F%2Fdocs.google.com%2Fuc%3Fexport%3Ddownload%26id%3D1lAKqfDZHDAiUZ3wTCOc8xykBOQysB0B4\x26followup=https%3A%2F%2Fdocs.google.com%2Fuc%3Fexport%3Ddownload%26id%3D1lAKqfDZHDAiUZ3wTCOc8xykBOQysB0B4\x26service=wise\x26ltmpl=homepage\x26passive=1209600\x26noautologin=true',
  'https:\x2F\x2Faccounts.google.com\x2FPassiveLoginProber?continue=https%3A%2F%2Fdocs.google.com%2Fuc%3Fexport%3Ddownload%26id%3D1lAKqfDZHDAiUZ3wTCOc8xykBOQysB0B4\x26followup=https%3A%2F%2Fdocs.google.com%2Fuc%3Fexport%3Ddownload%26id%3D1lAKqfDZHDAiUZ3wTCOc8xykBOQysB0B4\x26service=wise\x26ltmpl=homepage\x26passive=1209600');
  </script>
  </body>
</html>
