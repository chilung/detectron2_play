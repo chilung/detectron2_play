
<!DOCTYPE html>
<html lang="zh">
  <head>
  <meta charset="utf-8">
  <meta content="width=300, initial-scale=1" name="viewport">
  <meta name="description" content="Google 雲端硬碟可讓您輕鬆備份各種檔案，您可透過任何手機、平板電腦或一般電腦來存取所需檔案。現在申請 Google 雲端硬碟，立即享有 15 GB 的免費儲存空間。">
  <meta name="google-site-verification" content="LrdTUW9psUAMbh4Ia074-BPEVmcpBxF6Gwf0MSgQXZs">
  <title>歡迎使用 Google 雲端硬碟 – 集中管理您所有的檔案</title>
<style>
  html, body {
  font-family: Arial, sans-serif;
  background: #fff;
  margin: 0;
  padding: 0;
  border: 0;
  position: absolute;
  height: 100%;
  min-width: 100%;
  font-size: 13px;
  color: #404040;
  direction: ltr;
  -webkit-text-size-adjust: none;
  }
  button,
  input[type=button],
  input[type=submit] {
  font-family: Arial, sans-serif;
  font-size: 13px;
  }
  a,
  a:hover,
  a:visited {
  color: #427fed;
  cursor: pointer;
  text-decoration: none;
  }
  a:hover {
  text-decoration: underline;
  }
  h1 {
  font-size: 20px;
  color: #262626;
  margin: 0 0 15px;
  font-weight: normal;
  }
  h2 {
  font-size: 14px;
  color: #262626;
  margin: 0 0 15px;
  font-weight: bold;
  }
  input[type=email],
  input[type=number],
  input[type=password],
  input[type=tel],
  input[type=text],
  input[type=url] {
  -moz-appearance: none;
  -webkit-appearance: none;
  appearance: none;
  display: inline-block;
  height: 36px;
  padding: 0 8px;
  margin: 0;
  background: #fff;
  border: 1px solid #d9d9d9;
  border-top: 1px solid #c0c0c0;
  -moz-box-sizing: border-box;
  -webkit-box-sizing: border-box;
  box-sizing: border-box;
  -moz-border-radius: 1px;
  -webkit-border-radius: 1px;
  border-radius: 1px;
  font-size: 15px;
  color: #404040;
  }
  input[type=email]:hover,
  input[type=number]:hover,
  input[type=password]:hover,
  input[type=tel]:hover,
  input[type=text]:hover,
  input[type=url]:hover {
  border: 1px solid #b9b9b9;
  border-top: 1px solid #a0a0a0;
  -moz-box-shadow: inset 0 1px 2px rgba(0,0,0,0.1);
  -webkit-box-shadow: inset 0 1px 2px rgba(0,0,0,0.1);
  box-shadow: inset 0 1px 2px rgba(0,0,0,0.1);
  }
  input[type=email]:focus,
  input[type=number]:focus,
  input[type=password]:focus,
  input[type=tel]:focus,
  input[type=text]:focus,
  input[type=url]:focus {
  outline: none;
  border: 1px solid #4d90fe;
  -moz-box-shadow: inset 0 1px 2px rgba(0,0,0,0.3);
  -webkit-box-shadow: inset 0 1px 2px rgba(0,0,0,0.3);
  box-shadow: inset 0 1px 2px rgba(0,0,0,0.3);
  }
  input[type=checkbox],
  input[type=radio] {
  -webkit-appearance: none;
  display: inline-block;
  width: 13px;
  height: 13px;
  margin: 0;
  cursor: pointer;
  vertical-align: bottom;
  background: #fff;
  border: 1px solid #c6c6c6;
  -moz-border-radius: 1px;
  -webkit-border-radius: 1px;
  border-radius: 1px;
  -moz-box-sizing: border-box;
  -webkit-box-sizing: border-box;
  box-sizing: border-box;
  position: relative;
  }
  input[type=checkbox]:active,
  input[type=radio]:active {
  background: #ebebeb;
  }
  input[type=checkbox]:hover {
  border-color: #c6c6c6;
  -moz-box-shadow: inset 0 1px 2px rgba(0,0,0,0.1);
  -webkit-box-shadow: inset 0 1px 2px rgba(0,0,0,0.1);
  box-shadow: inset 0 1px 2px rgba(0,0,0,0.1);
  }
  input[type=radio] {
  -moz-border-radius: 1em;
  -webkit-border-radius: 1em;
  border-radius: 1em;
  width: 15px;
  height: 15px;
  }
  input[type=checkbox]:checked,
  input[type=radio]:checked {
  background: #fff;
  }
  input[type=radio]:checked::after {
  content: '';
  display: block;
  position: relative;
  top: 3px;
  left: 3px;
  width: 7px;
  height: 7px;
  background: #666;
  -moz-border-radius: 1em;
  -webkit-border-radius: 1em;
  border-radius: 1em;
  }
  input[type=checkbox]:checked::after {
  content: url(https://ssl.gstatic.com/ui/v1/menu/checkmark.png);
  display: block;
  position: absolute;
  top: -6px;
  left: -5px;
  }
  input[type=checkbox]:focus {
  outline: none;
  border-color: #4d90fe;
  }
  .stacked-label {
  display: block;
  font-weight: bold;
  margin: .5em 0;
  }
  .hidden-label {
  position: absolute !important;
  clip: rect(1px 1px 1px 1px); /* IE6, IE7 */
  clip: rect(1px, 1px, 1px, 1px);
  height: 0px;
  width: 0px;
  overflow: hidden;
  visibility: hidden;
  }
  input[type=checkbox].form-error,
  input[type=email].form-error,
  input[type=number].form-error,
  input[type=password].form-error,
  input[type=text].form-error,
  input[type=tel].form-error,
  input[type=url].form-error {
  border: 1px solid #dd4b39;
  }
  .error-msg {
  margin: .5em 0;
  display: block;
  color: #dd4b39;
  line-height: 17px;
  }
  .help-link {
  background: #dd4b39;
  padding: 0 5px;
  color: #fff;
  font-weight: bold;
  display: inline-block;
  -moz-border-radius: 1em;
  -webkit-border-radius: 1em;
  border-radius: 1em;
  text-decoration: none;
  position: relative;
  top: 0px;
  }
  .help-link:visited {
  color: #fff;
  }
  .help-link:hover {
  color: #fff;
  background: #c03523;
  text-decoration: none;
  }
  .help-link:active {
  opacity: 1;
  background: #ae2817;
  }
  .wrapper {
  position: relative;
  min-height: 100%;
  }
  .content {
  padding: 0 44px;
  }
  .main {
  padding-bottom: 100px;
  }
  /* For modern browsers */
  .clearfix:before,
  .clearfix:after {
  content: "";
  display: table;
  }
  .clearfix:after {
  clear: both;
  }
  /* For IE 6/7 (trigger hasLayout) */
  .clearfix {
  zoom:1;
  }
  .google-header-bar {
  height: 71px;
  border-bottom: 1px solid #e5e5e5;
  overflow: hidden;
  }
  .header .logo {
  background-image: url(https://ssl.gstatic.com/accounts/ui/logo_1x.png);
  background-size: 116px 38px;
  background-repeat: no-repeat;
  margin: 17px 0 0;
  float: left;
  height: 38px;
  width: 116px;
  }
  .header .logo-w {
  background-image: url(https://ssl.gstatic.com/images/branding/googlelogo/1x/googlelogo_color_112x36dp.png);
  background-size: 112px 36px;
  margin: 21px 0 0;
  }
  .header .secondary-link {
  margin: 28px 0 0;
  float: right;
  }
  .header .secondary-link a {
  font-weight: normal;
  }
  .google-header-bar.centered {
  border: 0;
  height: 108px;
  }
  .google-header-bar.centered .header .logo {
  float: none;
  margin: 40px auto 30px;
  display: block;
  }
  .google-header-bar.centered .header .secondary-link {
  display: none
  }
  .google-footer-bar {
  position: absolute;
  bottom: 0;
  height: 35px;
  width: 100%;
  border-top: 1px solid #e5e5e5;
  overflow: hidden;
  }
  .footer {
  padding-top: 7px;
  font-size: .85em;
  white-space: nowrap;
  line-height: 0;
  }
  .footer ul {
  float: left;
  max-width: 80%;
  min-height: 16px;
  padding: 0;
  }
  .footer ul li {
  color: #737373;
  display: inline;
  padding: 0;
  padding-right: 1.5em;
  }
  .footer a {
  color: #737373;
  }
  .lang-chooser-wrap {
  float: right;
  display: inline;
  }
  .lang-chooser-wrap img {
  vertical-align: top;
  }
  .lang-chooser {
  font-size: 13px;
  height: 24px;
  line-height: 24px;
  }
  .lang-chooser option {
  font-size: 13px;
  line-height: 24px;
  }
  .hidden {
  height: 0px;
  width: 0px;
  overflow: hidden;
  visibility: hidden;
  display: none !important;
  }
  .banner {
  text-align: center;
  }
  .card {
  background-color: #f7f7f7;
  padding: 20px 25px 30px;
  margin: 0 auto 25px;
  width: 304px;
  -moz-border-radius: 2px;
  -webkit-border-radius: 2px;
  border-radius: 2px;
  -moz-box-shadow: 0px 2px 2px rgba(0, 0, 0, 0.3);
  -webkit-box-shadow: 0px 2px 2px rgba(0, 0, 0, 0.3);
  box-shadow: 0px 2px 2px rgba(0, 0, 0, 0.3);
  }
  .card > *:first-child {
  margin-top: 0;
  }
  .rc-button,
  .rc-button:visited {
  display: inline-block;
  min-width: 46px;
  text-align: center;
  color: #444;
  font-size: 14px;
  font-weight: 700;
  height: 36px;
  padding: 0 8px;
  line-height: 36px;
  -moz-border-radius: 3px;
  -webkit-border-radius: 3px;
  border-radius: 3px;
  -o-transition: all 0.218s;
  -moz-transition: all 0.218s;
  -webkit-transition: all 0.218s;
  transition: all 0.218s;
  border: 1px solid #dcdcdc;
  background-color: #f5f5f5;
  background-image: -webkit-linear-gradient(top,#f5f5f5,#f1f1f1);
  background-image: -moz-linear-gradient(top,#f5f5f5,#f1f1f1);
  background-image: -ms-linear-gradient(top,#f5f5f5,#f1f1f1);
  background-image: -o-linear-gradient(top,#f5f5f5,#f1f1f1);
  background-image: linear-gradient(top,#f5f5f5,#f1f1f1);
  -o-transition: none;
  -moz-user-select: none;
  -webkit-user-select: none;
  user-select: none;
  cursor: default;
  }
  .card .rc-button {
  width: 100%;
  padding: 0;
  }
  .rc-button.disabled,
  .rc-button[disabled] {
  opacity: .5;
  filter: alpha(opacity=50);
  cursor: default;
  pointer-events: none;
  }
  .rc-button:hover {
  border: 1px solid #c6c6c6;
  color: #333;
  text-decoration: none;
  -o-transition: all 0.0s;
  -moz-transition: all 0.0s;
  -webkit-transition: all 0.0s;
  transition: all 0.0s;
  background-color: #f8f8f8;
  background-image: -webkit-linear-gradient(top,#f8f8f8,#f1f1f1);
  background-image: -moz-linear-gradient(top,#f8f8f8,#f1f1f1);
  background-image: -ms-linear-gradient(top,#f8f8f8,#f1f1f1);
  background-image: -o-linear-gradient(top,#f8f8f8,#f1f1f1);
  background-image: linear-gradient(top,#f8f8f8,#f1f1f1);
  -moz-box-shadow: 0 1px 1px rgba(0,0,0,0.1);
  -webkit-box-shadow: 0 1px 1px rgba(0,0,0,0.1);
  box-shadow: 0 1px 1px rgba(0,0,0,0.1);
  }
  .rc-button:active {
  background-color: #f6f6f6;
  background-image: -webkit-linear-gradient(top,#f6f6f6,#f1f1f1);
  background-image: -moz-linear-gradient(top,#f6f6f6,#f1f1f1);
  background-image: -ms-linear-gradient(top,#f6f6f6,#f1f1f1);
  background-image: -o-linear-gradient(top,#f6f6f6,#f1f1f1);
  background-image: linear-gradient(top,#f6f6f6,#f1f1f1);
  -moz-box-shadow: 0 1px 2px rgba(0,0,0,0.1);
  -webkit-box-shadow: 0 1px 2px rgba(0,0,0,0.1);
  box-shadow: 0 1px 2px rgba(0,0,0,0.1);
  }
  .rc-button-submit,
  .rc-button-submit:visited {
  border: 1px solid #3079ed;
  color: #fff;
  text-shadow: 0 1px rgba(0,0,0,0.1);
  background-color: #4d90fe;
  background-image: -webkit-linear-gradient(top,#4d90fe,#4787ed);
  background-image: -moz-linear-gradient(top,#4d90fe,#4787ed);
  background-image: -ms-linear-gradient(top,#4d90fe,#4787ed);
  background-image: -o-linear-gradient(top,#4d90fe,#4787ed);
  background-image: linear-gradient(top,#4d90fe,#4787ed);
  }
  .rc-button-submit:hover {
  border: 1px solid #2f5bb7;
  color: #fff;
  text-shadow: 0 1px rgba(0,0,0,0.3);
  background-color: #357ae8;
  background-image: -webkit-linear-gradient(top,#4d90fe,#357ae8);
  background-image: -moz-linear-gradient(top,#4d90fe,#357ae8);
  background-image: -ms-linear-gradient(top,#4d90fe,#357ae8);
  background-image: -o-linear-gradient(top,#4d90fe,#357ae8);
  background-image: linear-gradient(top,#4d90fe,#357ae8);
  }
  .rc-button-submit:active {
  background-color: #357ae8;
  background-image: -webkit-linear-gradient(top,#4d90fe,#357ae8);
  background-image: -moz-linear-gradient(top,#4d90fe,#357ae8);
  background-image: -ms-linear-gradient(top,#4d90fe,#357ae8);
  background-image: -o-linear-gradient(top,#4d90fe,#357ae8);
  background-image: linear-gradient(top,#4d90fe,#357ae8);
  -moz-box-shadow: inset 0 1px 2px rgba(0,0,0,0.3);
  -webkit-box-shadow: inset 0 1px 2px rgba(0,0,0,0.3);
  box-shadow: inset 0 1px 2px rgba(0,0,0,0.3);
  }
  .rc-button-red,
  .rc-button-red:visited {
  border: 1px solid transparent;
  color: #fff;
  text-shadow: 0 1px rgba(0,0,0,0.1);
  background-color: #d14836;
  background-image: -webkit-linear-gradient(top,#dd4b39,#d14836);
  background-image: -moz-linear-gradient(top,#dd4b39,#d14836);
  background-image: -ms-linear-gradient(top,#dd4b39,#d14836);
  background-image: -o-linear-gradient(top,#dd4b39,#d14836);
  background-image: linear-gradient(top,#dd4b39,#d14836);
  }
  .rc-button-red:hover {
  border: 1px solid #b0281a;
  color: #fff;
  text-shadow: 0 1px rgba(0,0,0,0.3);
  background-color: #c53727;
  background-image: -webkit-linear-gradient(top,#dd4b39,#c53727);
  background-image: -moz-linear-gradient(top,#dd4b39,#c53727);
  background-image: -ms-linear-gradient(top,#dd4b39,#c53727);
  background-image: -o-linear-gradient(top,#dd4b39,#c53727);
  background-image: linear-gradient(top,#dd4b39,#c53727);
  }
  .rc-button-red:active {
  border: 1px solid #992a1b;
  background-color: #b0281a;
  background-image: -webkit-linear-gradient(top,#dd4b39,#b0281a);
  background-image: -moz-linear-gradient(top,#dd4b39,#b0281a);
  background-image: -ms-linear-gradient(top,#dd4b39,#b0281a);
  background-image: -o-linear-gradient(top,#dd4b39,#b0281a);
  background-image: linear-gradient(top,#dd4b39,#b0281a);
  -moz-box-shadow: inset 0 1px 2px rgba(0,0,0,0.3);
  -webkit-box-shadow: inset 0 1px 2px rgba(0,0,0,0.3);
  box-shadow: inset 0 1px 2px rgba(0,0,0,0.3);
  }
  .secondary-actions {
  text-align: center;
  }
</style>
<style media="screen and (max-width: 800px), screen and (max-height: 800px)">
  .google-header-bar.centered {
  height: 83px;
  }
  .google-header-bar.centered .header .logo {
  margin: 25px auto 20px;
  }
  .card {
  margin-bottom: 20px;
  }
</style>
<style media="screen and (max-width: 580px)">
  html, body {
  font-size: 14px;
  }
  .google-header-bar.centered {
  height: 73px;
  }
  .google-header-bar.centered .header .logo {
  margin: 20px auto 15px;
  }
  .content {
  padding-left: 10px;
  padding-right: 10px;
  }
  .hidden-small {
  display: none;
  }
  .card {
  padding: 20px 15px 30px;
  width: 270px;
  }
  .footer ul li {
  padding-right: 1em;
  }
  .lang-chooser-wrap {
  display: none;
  }
</style>
<style media="screen and (-webkit-min-device-pixel-ratio: 1.5), (min--moz-device-pixel-ratio: 1.5), (-o-min-device-pixel-ratio: 3 / 2), (min-device-pixel-ratio: 1.5)">
  .header .logo {
  background-image: url(https://ssl.gstatic.com/accounts/ui/logo_2x.png);
  }
  .header .logo-w {
  background-image: url(https://ssl.gstatic.com/images/branding/googlelogo/2x/googlelogo_color_112x36dp.png);
  }
</style>
<style>
  pre.debug {
  font-family: monospace;
  position: absolute;
  left: 0;
  margin: 0;
  padding: 1.5em;
  font-size: 13px;
  background: #f1f1f1;
  border-top: 1px solid #e5e5e5;
  direction: ltr;
  white-space: pre-wrap;
  width: 90%;
  overflow: hidden;
  }
</style>
<style>
  .banner h1 {
  font-family: 'Open Sans', arial;
  -webkit-font-smoothing: antialiased;
  color: #555;
  font-size: 42px;
  font-weight: 300;
  margin-top: 0;
  margin-bottom: 20px;
  }
  .banner h2 {
  font-family: 'Open Sans', arial;
  -webkit-font-smoothing: antialiased;
  color: #555;
  font-size: 18px;
  font-weight: 400;
  margin-bottom: 20px;
  }
  .signin-card {
  width: 274px;
  padding: 40px 40px;
  }
  .signin-card .profile-img {
  width: 96px;
  height: 96px;
  margin: 0 auto 10px;
  display: block;
  -moz-border-radius: 50%;
  -webkit-border-radius: 50%;
  border-radius: 50%;
  }
  .signin-card .profile-name {
  font-size: 16px;
  font-weight: bold;
  text-align: center;
  margin: 10px 0 0;
  min-height: 1em;
  }
  .signin-card .profile-email {
  font-size: 16px;
  text-align: center;
  margin: 10px 0 20px 0;
  min-height: 1em;
  }
  .signin-card input[type=email],
  .signin-card input[type=password],
  .signin-card input[type=text],
  .signin-card input[type=submit] {
  width: 100%;
  display: block;
  margin-bottom: 10px;
  z-index: 1;
  position: relative;
  -moz-box-sizing: border-box;
  -webkit-box-sizing: border-box;
  box-sizing: border-box;
  }
  .signin-card #Email,
  .signin-card #Passwd,
  .signin-card .captcha {
  direction: ltr;
  height: 44px;
  font-size: 16px;
  }
  .signin-card #Email + .stacked-label {
  margin-top: 15px;
  }
  .signin-card #reauthEmail {
  display: block;
  margin-bottom: 10px;
  line-height: 36px;
  padding: 0 8px;
  font-size: 15px;
  color: #404040;
  line-height: 2;
  margin-bottom: 10px;
  font-size: 14px;
  text-align: center;
  overflow: hidden;
  text-overflow: ellipsis;
  white-space: nowrap;
  -moz-box-sizing: border-box;
  -webkit-box-sizing: border-box;
  box-sizing: border-box;
  }
  .one-google p {
  margin: 0 0 10px;
  color: #555;
  font-size: 14px;
  text-align: center;
  }
  .one-google p.create-account,
  .one-google p.switch-account {
  margin-bottom: 60px;
  }
  .one-google .logo-strip {
  background-repeat: no-repeat;
  display: block;
  margin: 10px auto;
  background-image: url(https://ssl.gstatic.com/accounts/ui/wlogostrip_230x17_1x.png);
  background-size: 230px 17px;
  width: 230px;
  height: 17px;
  }
</style>
<style media="screen and (max-width: 800px), screen and (max-height: 800px)">
  .banner h1 {
  font-size: 38px;
  margin-bottom: 15px;
  }
  .banner h2 {
  margin-bottom: 15px;
  }
  .one-google p.create-account,
  .one-google p.switch-account {
  margin-bottom: 30px;
  }
  .signin-card #Email {
  margin-bottom: 0;
  }
  .signin-card #Passwd {
  margin-top: -1px;
  }
  .signin-card #Email.form-error,
  .signin-card #Passwd.form-error {
  z-index: 2;
  }
  .signin-card #Email:hover,
  .signin-card #Email:focus,
  .signin-card #Passwd:hover,
  .signin-card #Passwd:focus {
  z-index: 3;
  }
</style>
<style media="screen and (max-width: 580px)">
  .banner h1 {
  font-size: 22px;
  margin-bottom: 15px;
  }
  .signin-card {
  width: 260px;
  padding: 20px 20px;
  margin: 0 auto 20px;
  }
  .signin-card .profile-img {
  width: 72px;
  height: 72px;
  -moz-border-radius: 72px;
  -webkit-border-radius: 72px;
  border-radius: 72px;
  }
</style>
<style media="screen and (-webkit-min-device-pixel-ratio: 1.5), (min--moz-device-pixel-ratio: 1.5), (-o-min-device-pixel-ratio: 3 / 2), (min-device-pixel-ratio: 1.5)">
  .one-google .logo-strip {
  background-image: url(https://ssl.gstatic.com/accounts/ui/wlogostrip_230x17_2x.png);
  }
</style>
<style>
  .remember .bubble-wrap {
  position: absolute;
  padding-top: 3px;
  -o-transition: opacity .218s ease-in .218s;
  -moz-transition: opacity .218s ease-in .218s;
  -webkit-transition: opacity .218s ease-in .218s;
  transition: opacity .218s ease-in .218s;
  left: -999em;
  opacity: 0;
  width: 314px;
  margin-left: -20px;
  }
  .remember:hover .bubble-wrap,
  .remember input:focus ~ .bubble-wrap,
  .remember .bubble-wrap:hover,
  .remember .bubble-wrap:focus {
  opacity: 1;
  left: inherit;
  }
  .bubble-pointer {
  border-left: 10px solid transparent;
  border-right: 10px solid transparent;
  border-bottom: 10px solid #fff;
  width: 0;
  height: 0;
  margin-left: 17px;
  }
  .bubble {
  background-color: #fff;
  padding: 15px;
  margin-top: -1px;
  font-size: 11px;
  -moz-border-radius: 2px;
  -webkit-border-radius: 2px;
  border-radius: 2px;
  -moz-box-shadow: 0px 2px 2px rgba(0, 0, 0, 0.3);
  -webkit-box-shadow: 0px 2px 2px rgba(0, 0, 0, 0.3);
  box-shadow: 0px 2px 2px rgba(0, 0, 0, 0.3);
  }
  #stay-signed-in {
  float: left;
  }
  #stay-signed-in-tooltip {
  left: auto;
  margin-left: -20px;
  padding-top: 3px;
  position: absolute;
  top: 0;
  visibility: hidden;
  width: 314px;
  z-index: 1;
  }
  .dasher-tooltip {
  top: 380px;
  }
</style>
<style media="screen and (max-width: 800px), screen and (max-height: 800px)">
  .dasher-tooltip {
  top: 340px;
  }
</style>
<style>
  .jfk-tooltip {
  background-color: #fff;
  border: 1px solid;
  color: #737373;
  font-size: 12px;
  position: absolute;
  z-index: 800 !important;
  border-color: #bbb #bbb #a8a8a8;
  padding: 16px;
  width: 250px;
  }
 .jfk-tooltip h3 {
  color: #555;
  font-size: 12px;
  margin: 0 0 .5em;
  }
 .jfk-tooltip-content p:last-child {
  margin-bottom: 0;
  }
  .jfk-tooltip-arrow {
  position: absolute;
  }
  .jfk-tooltip-arrow .jfk-tooltip-arrowimplbefore,
  .jfk-tooltip-arrow .jfk-tooltip-arrowimplafter {
  display: block;
  height: 0;
  position: absolute;
  width: 0;
  }
  .jfk-tooltip-arrow .jfk-tooltip-arrowimplbefore {
  border: 9px solid;
  }
  .jfk-tooltip-arrow .jfk-tooltip-arrowimplafter {
  border: 8px solid;
  }
  .jfk-tooltip-arrowdown {
  bottom: 0;
  }
  .jfk-tooltip-arrowup {
  top: -9px;
  }
  .jfk-tooltip-arrowleft {
  left: -9px;
  top: 30px;
  }
  .jfk-tooltip-arrowright {
  right: 0;
  top: 30px;
  }
  .jfk-tooltip-arrowdown .jfk-tooltip-arrowimplbefore,.jfk-tooltip-arrowup .jfk-tooltip-arrowimplbefore {
  border-color: #bbb transparent;
  left: -9px;
  }
  .jfk-tooltip-arrowdown .jfk-tooltip-arrowimplbefore {
  border-color: #a8a8a8 transparent;
  }
  .jfk-tooltip-arrowdown .jfk-tooltip-arrowimplafter,.jfk-tooltip-arrowup .jfk-tooltip-arrowimplafter {
  border-color: #fff transparent;
  left: -8px;
  }
  .jfk-tooltip-arrowdown .jfk-tooltip-arrowimplbefore {
  border-bottom-width: 0;
  }
  .jfk-tooltip-arrowdown .jfk-tooltip-arrowimplafter {
  border-bottom-width: 0;
  }
  .jfk-tooltip-arrowup .jfk-tooltip-arrowimplbefore {
  border-top-width: 0;
  }
  .jfk-tooltip-arrowup .jfk-tooltip-arrowimplafter {
  border-top-width: 0;
  top: 1px;
  }
  .jfk-tooltip-arrowleft .jfk-tooltip-arrowimplbefore,
  .jfk-tooltip-arrowright .jfk-tooltip-arrowimplbefore {
  border-color: transparent #bbb;
  top: -9px;
  }
  .jfk-tooltip-arrowleft .jfk-tooltip-arrowimplafter,
  .jfk-tooltip-arrowright .jfk-tooltip-arrowimplafter {
  border-color:transparent #fff;
  top:-8px;
  }
  .jfk-tooltip-arrowleft .jfk-tooltip-arrowimplbefore {
  border-left-width: 0;
  }
  .jfk-tooltip-arrowleft .jfk-tooltip-arrowimplafter {
  border-left-width: 0;
  left: 1px;
  }
  .jfk-tooltip-arrowright .jfk-tooltip-arrowimplbefore {
  border-right-width: 0;
  }
  .jfk-tooltip-arrowright .jfk-tooltip-arrowimplafter {
  border-right-width: 0;
  }
  .jfk-tooltip-closebtn {
  background: url("//ssl.gstatic.com/ui/v1/icons/common/x_8px.png") no-repeat;
  border: 1px solid transparent;
  height: 21px;
  opacity: .4;
  outline: 0;
  position: absolute;
  right: 2px;
  top: 2px;
  width: 21px;
  }
  .jfk-tooltip-closebtn:focus,
  .jfk-tooltip-closebtn:hover {
  opacity: .8;
  cursor: pointer;
  }
  .jfk-tooltip-closebtn:focus {
  border-color: #4d90fe;
  }
</style>
<style media="screen and (max-width: 580px)">
  .jfk-tooltip {
  display: none;
  }
</style>
<style type="text/css">
.captcha-box {
  background: #fff;
  margin: 0 0 10px;
  overflow: hidden;
  padding: 10px;
}
.captcha-box .captcha-img {
  text-align: center;
}
.captcha-box .captcha-label {
  font-weight: bold;
  display: block;
  margin: .5em 0;
}
.captcha-box .captcha-msg {
  color: #999;
  display: block;
  position: relative;
}
.captcha-box .captcha-msg .accessibility-logo {
  float: right;
  border: 0;
}
.captcha-box .audio-box {
  position: absolute;
  top: 0;
}
</style>
<style>
.chromiumsync-custom-content {
  padding-top: 20px;
  margin-bottom: 0;
}
.form-panel {
  -webkit-box-sizing: border-box;
  box-sizing: border-box;
  -webkit-transform: translateZ(0);
  -moz-transform: translateZ(0);
  -ms-transform: translateZ(0);
  -o-transform: translateZ(0);
  transform: translateZ(0);
  width: 100%;
}
.form-panel.first {
  z-index: 2;
}
.form-panel.second {
  z-index: 1;
}
.shift-form .form-panel.first {
  z-index: 1;
}
.shift-form .form-panel.second {
  z-index: 2;
}
.slide-in,
.slide-out {
  display: block;
  -webkit-transition-property: -webkit-transform, opacity;
  -moz-transition-property: -moz-transform, opacity;
  -ms-transition-property: -ms-transform, opacity;
  -o-transition-property: -o-transform, opacity;
  transition-property: transform, opacity;
  -webkit-transition-duration: 0.1s;
  -moz-transition-duration: 0.1s;
  -ms-transition-duration: 0.1s;
  -o-transition-duration: 0.1s;
  transition-duration: 0.1s;
  -webkit-transition-timing-function: cubic-bezier(0.4, 0, 0.2, 1);
  -moz-transition-timing-function: cubic-bezier(0.4, 0, 0.2, 1);
  -ms-transition-timing-function: cubic-bezier(0.4, 0, 0.2, 1);
  -o-transition-timing-function: cubic-bezier(0.4, 0, 0.2, 1);
  transition-timing-function: cubic-bezier(0.4, 0, 0.2, 1);
}
.slide-out {
  -webkit-transform: translate3d(0, 0, 0);
  -moz-transform: translate3d(0, 0, 0);
  -ms-transform: translate3d(0, 0, 0);
  -o-transform: translate3d(0, 0, 0);
  transform: translate3d(0, 0, 0);
}
.shift-form .slide-out {
  opacity: 0;
  -webkit-transform: translate3d(-120%, 0, 0);
  -moz-transform: translate3d(-120%, 0, 0);
  -ms-transform: translate3d(-120%, 0, 0);
  -o-transform: translate3d(-120%, 0, 0);
  transform: translate3d(-120%, 0, 0);
}
.slide-in {
  -webkit-transform: translate3d(120%, 0, 0);
  -moz-transform: translate3d(120%, 0, 0);
  -ms-transform: translate3d(120%, 0, 0);
  -o-transform: translate3d(120%, 0, 0);
  transform: translate3d(120%, 0, 0);
}
.shift-form .slide-in {
  opacity: 1;
  -webkit-transform: translate3d(0, 0, 0);
  -moz-transform: translate3d(0, 0, 0);
  -ms-transform: translate3d(0, 0, 0);
  -o-transform: translate3d(0, 0, 0);
  transform: translate3d(0, 0, 0);
}
.error-msg {
  -webkit-transition: max-height 0.3s, opacity 0.3s 0s steps(10, end);
  -moz-transition: max-height 0.3s, opacity 0.3s 0s steps(10, end);
  -ms-transition: max-height 0.3s, opacity 0.3s 0s steps(10, end);
  -o-transition: max-height 0.3s, opacity 0.3s 0s steps(10, end);
  transition: max-height 0.3s, opacity 0.3s 0s steps(10, end);
  height: auto;
  max-height: 0;
  opacity: 0;
}
.has-error .error-msg {
  max-height: 3.5em;
  margin-top: 10px;
  margin-bottom: 10px;
  opacity: 1;
  visibility: visible;
}
.back-arrow {
  position: absolute;
  top: 37px;
  width: 24px;
  height: 24px;
  display: none;
  cursor: pointer;
}
.back-arrow {
  border-style: none;
}
.shift-form.back-arrow {
  display: block;
}
.back-arrow img {
  display: block;
}
#link-signup {
  text-align: center;
  font-size: 14px;
}
.shift-form #link-signup{
  display: none;
}
#link-signin-different {
  display: none;
  text-align: center;
  font-size: 14px;
}
.shift-form #link-signin-different {
  display: block;
}
.signin-card #profile-name {
  font-size: 16px;
  font-weight: bold;
  text-align: center;
  margin: 0;
  min-height: 1em;
}
.signin-card.no-name #profile-name {
  display: none;
}
.signin-card.no-name #email-display {
  line-height: initial;
  margin-bottom: 16px;
}
.signin-card #email-display {
  display: block;
  padding: 0px 8px;
  color: rgb(64, 64, 64);
  line-height: 2;
  margin-bottom: 10px;
  font-size: 14px;
  text-align: center;
  overflow: hidden;
  text-overflow: ellipsis;
  white-space: nowrap;
  -moz-box-sizing: border-box;
  -webkit-box-sizing: border-box;
  box-sizing: border-box;
}
.signin-card #Email {
  margin-top: 16px;
}
.need-help {
  float: right;
  text-align: right;
}
.form-panel {
  width: 274px;
}
#gaia_firstform {
  z-index: 2;
}
.signin-card {
  position: relative;
  overflow: hidden;
}
.signin-card #profile-name {
  color: #000;
}
.circle-mask {
  display: block;
  height: 96px;
  width: 96px;
  overflow: hidden;
  border-radius: 50%;
  margin-left: auto;
  margin-right: auto;
  z-index: 100;
  margin-bottom: 10px;
}
.circle {
  -webkit-transition-property: -webkit-transform;
  -moz-transition-property: -moz-transform;
  -ms-transition-property: -ms-transform;
  -o-transition-property: -o-transform;
  transition-property: transform;
  -webkit-transition-timing-function: cubic-bezier(.645,.045,.355,1);
  -moz-transition-timing-function: cubic-bezier(.645,.045,.355,1);
  -ms-transition-timing-function: cubic-bezier(.645,.045,.355,1);
  -o-transition-timing-function: cubic-bezier(.645,.045,.355,1);
  transition-timing-function: cubic-bezier(.645,.045,.355,1);
}
.circle {
  position: absolute;
  z-index: 101;
  height: 96px;
  width: 96px;
  border-radius: 50%;
  opacity: 0.99;
  overflow: hidden;
  background-repeat: no-repeat;
  background-position: center center;
}
.main {
  overflow: hidden;
}
.card-mask-wrap {
  position: relative;
  width: 360px;
  margin: 0 auto;
  z-index: 1;
}
.dasher-tooltip {
  position: absolute;
  left: 50%;
  margin-left: 150px;
}
.dasher-tooltip .tooltip-pointer {
  margin-top: 15px;
}
.dasher-tooltip p {
  margin-top: 0;
}
.dasher-tooltip p span {
  display: block;
}
.card {
  margin-bottom: 0;
}
.one-google {
  padding-top: 27px;
}
#canvas {
  -webkit-transition: opacity 0.075s;
  -moz-transition: opacity 0.075s;
  -ms-transition: opacity 0.075s;
  -o-transition: opacity 0.075s;
  transition: opacity 0.075s;
  opacity: 0.01;
}
.shift-form #canvas {
  opacity: 0.99;
}
.label {
  color: #404040;
}
#account-chooser-link {
  -webkit-transition: opacity 0.3s;
  -moz-transition: opacity 0.3s;
  -ms-transition: opacity 0.3s;
  -o-transition: opacity 0.3s;
  transition: opacity 0.3s;
}
.input-wrapper {
  position: relative;
}
.google-footer-bar {
  z-index: 2;
}
</style>
<style media="screen and (max-width: 580px)">
.back-arrow {
  top: 17px;
}
.circle-mask {
  height: 72px;
  width: 72px;
  background-size: 72px;
}
.circle {
  height: 72px;
  width: 72px;
}
#canvas {
  height: 72px;
  width: 72px;
}
.form-panel {
  width: 256px;
}
.card-mask-wrap {
  width: 300px;
}
.signin-card {
  width: 256px;
}
.signin-card #EmailFirst {
  margin-top: 15px;
}
.one-google {
  padding-top: 22px;
}
</style>
  </head>
  <body>
  <div class="wrapper">
  <div  class="google-header-bar  centered">
  <div class="header content clearfix">
  <div class="logo logo-w" aria-label="Google"></div>
  </div>
  </div>
  <div  class="main content clearfix">
<div class="banner">
<h1>
  只要一個帳戶，所有 Google 服務暢行無阻。
</h1>
  <h2 class="hidden-small">
  登入帳戶繼續使用 Google 雲端硬碟
  </h2>
</div>
<div class="main-content 
  
    no-name
  
  
  
">
<div  class="card signin-card pre-shift
  
  
   no-name">
  <img  class="circle-mask"
    
      src="https://ssl.gstatic.com/accounts/ui/avatar_2x.png"
    >
  <form novalidate method="post" action="https://accounts.google.com/signin/v1/lookup" id="gaia_loginform">
  <input name="Page" type="hidden" value="PasswordSeparationSignIn">
  <input type="hidden" name="" value="">
  <input type="hidden" name="gxf" value="AFoagUWZY0hmyH5ucTmubP40LW67UDi7-Q:1611911462197">
  <input type="hidden" name="continue" value="https://docs.google.com/uc?export=download&amp;id=1lAKqfDZHDAiUZ3wTCOc8xykBOQysB0B4">
  <input type="hidden" name="followup" value="https://docs.google.com/uc?export=download&amp;id=1lAKqfDZHDAiUZ3wTCOc8xykBOQysB0B4">
  <input type="hidden" name="service" value="wise">
  <input type="hidden" name="ltmpl" value="homepage">
  <input id="profile-information" name="ProfileInformation" type="hidden" value="">
  <input id="session-state" name="SessionState" type="hidden" value="AEThLlw1z5ehfw-Pg4wdUp5hOOlPJ15QS3r2PKp-LoGZte-5fRBl92vBcGpOgKxl1ysBcVEf-fkntMZCXYAxU3cbDUmMDRpb7cTgqxm5ljLRS86kbshXBtt5tHJlvVYeF6S7OdJ0Uyl9b5IeLnPmZjPbdUsEUFxPGWNHyM_cq99IW9vHHrKeJ1dentHzob4ViFiy9BjDjMf9">
  <input name="flowName" type="hidden" value="GlifWebSignIn">
  <input type="hidden" id="_utf8" name="_utf8" value="&#9731;"/>
  <input type="hidden" name="bgresponse" id="bgresponse" value="js_disabled">
  <div class="form-panel first valid" id="gaia_firstform">
  <div class="slide-out">
  <div class="input-wrapper focused">
  <div id="identifier-shown">
  <div>
  <label  class="hidden-label" for="Email">
  輸入您的電子郵件</label>
  <input  id="Email" type="email" value="" spellcheck="false"
                   name="Email"
                   
                     placeholder="電子郵件地址或電話號碼"
                   
                   
                   
                   >
  <input id="Passwd-hidden" type="password" spellcheck="false" class="hidden">
  </div>
  </div>
  <span role="alert" class="error-msg" id="errormsg_0_Email"></span>
  </div>
<input id="next" name="signIn" class="rc-button rc-button-submit" type="submit" value="下一步">
  <a  class="need-help"
          href="https://accounts.google.com/signin/usernamerecovery?continue=https%3A%2F%2Fdocs.google.com%2Fuc%3Fexport%3Ddownload%26id%3D1lAKqfDZHDAiUZ3wTCOc8xykBOQysB0B4&amp;service=wise&amp;ltmpl=homepage&amp;hl=zh-TW">
  尋找我的帳戶
  </a>
  </div>
  </div>
  </form>
</div>
  <div  class="card-mask-wrap
        
     no-name">
  <div class="card-mask">
  <div class="one-google">
  <p class="create-account">
  <span id="link-signin-different">
  <a href="https://accounts.google.com/AccountChooser?continue=https%3A%2F%2Fdocs.google.com%2Fuc%3Fexport%3Ddownload%26id%3D1lAKqfDZHDAiUZ3wTCOc8xykBOQysB0B4&amp;followup=https%3A%2F%2Fdocs.google.com%2Fuc%3Fexport%3Ddownload%26id%3D1lAKqfDZHDAiUZ3wTCOc8xykBOQysB0B4&amp;service=wise&amp;ltmpl=homepage">
  以其他帳戶登入
  </a>
  </span>
  <span id="link-signup">
  <a  href="https://accounts.google.com/SignUp?service=wise&amp;continue=https%3A%2F%2Fdocs.google.com%2Fuc%3Fexport%3Ddownload%26id%3D1lAKqfDZHDAiUZ3wTCOc8xykBOQysB0B4&amp;ltmpl=homepage">
  建立帳戶
  </a>
  </span>
  </p>
<p class="tagline">
  只要一個 Google 帳戶，即可使用 Google 各項優質服務
</p>
<div class="logo-strip"></div>
  </div>
  </div>
  </div>
</div>
  </div>
  <div  class="google-footer-bar">
  <div class="footer content clearfix">
  <ul id="footer-list">
  <li>
  <a href="https://www.google.com/intl/zh-TW/about" target="_blank">
  關於 Google
  </a>
  </li>
  <li>
  <a href="https://accounts.google.com/TOS?loc=TW&hl=zh-TW&privacy=true" target="_blank">
  隱私權
  </a>
  </li>
  <li>
  <a href="https://accounts.google.com/TOS?loc=TW&hl=zh-TW" target="_blank">
  條款
  </a>
  </li>
  <li>
  <a href="http://www.google.com/support/accounts?hl=zh-TW" target="_blank">
  說明
  </a>
  </li>
  </ul>
  </div>
</div>
  </div>
<script type="text/javascript" nonce="rq03Iyc81jJwJ/lCYbKUJg">
  var gaia_attachEvent = function(element, event, callback) {
  if (element && element.addEventListener) {
  element.addEventListener(event, callback, false);
  } else if (element && element.attachEvent) {
  element.attachEvent('on' + event, callback);
  }
  };
  (function() {
  var gaia_hideNavBar = function() {
  setTimeout(function() {
  window.scrollTo(0, 1);
  }, 0);
  };
  gaia_attachEvent(window, 'load', gaia_hideNavBar);
  })();
</script>
  <script type="text/javascript" nonce="rq03Iyc81jJwJ/lCYbKUJg">(function(){var Q=function(t,h){if(h=(t=null,T).trustedTypes,!h||!h.createPolicy)return t;try{t=h.createPolicy("bg",{createHTML:r,createScript:r,createScriptURL:r})}catch(n){T.console&&T.console.error(n.message)}return t},r=function(t){return t},T=this||self;(0,eval)(function(t,h){return(h=Q())&&1===t.eval(h.createScript("1"))?function(n){return h.createScript(n)}:function(n){return""+n}}(T)(Array(7824*Math.random()|0).join("\n")+'(function(){var d=function(t,T,h,r){if(t.o)return t.V(t.K);return(r=(T=(r=t.P(218),r>>3),F(t,r)),t.N!=T>>3)&&(t.N=T>>3,h=t.P(244),t.qW=tL([0,0,h[1],h[2]],t.FQ,t.N)),r^t.qW[T%8]},hL=function(t,T,h,r,q){for(T=(h=q=0,[]);q<t.length;q++)r=t.charCodeAt(q),128>r?T[h++]=r:(2048>r?T[h++]=r>>6|192:(55296==(r&64512)&&q+1<t.length&&56320==(t.charCodeAt(q+1)&64512)?(r=65536+((r&1023)<<10)+(t.charCodeAt(++q)&1023),T[h++]=r>>18|240,T[h++]=r>>12&63|128):T[h++]=r>>12|224,T[h++]=r>>6&63|128),T[h++]=r&63|128);return T},A=[],y=function(t,T,h,r,q){if(3<(h=(r=(0==((t=(q=T.P(236)>>3,[t,q>>8&255,q&255]),void 0)!=r&&t.push(r),T.P(111).length)&&(T.s[111]=void 0,L(T,111,t)),""),h&&(h.message&&(r+=h.message),h.stack&&(r+=":"+h.stack)),T.P(201)),h)){(t=(r=hL((h-=((r=r.slice(0,(h|0)-3),r.length)|0)+3,r.replace(/\\r\\n/g,"\\n"))),T.v),T).v=T;try{f(T,131,X(r.length,2).concat(r),12)}finally{T.v=t}}L(T,201,h)},H,u=function(t){isNaN(t)||(t>>3).toString(16)},T6=function(t,T,h,r){return(r=Y[t.substring(0,3)+"_"])?r(t.substring(3),T,h):nn(t,T)},nn=function(t,T){return[(T(function(h){h(t)}),function(){return t})]},W=this||self,V=[],N=[],tL=function(t,T,h,r){try{for(r=0;79669387488!=r;)T+=(h<<4^h>>>5)+(h|0)^(r|0)+(t[r&3]|0),r+=2489668359,h+=(T<<4^T>>>5)+(T|0)^(r|0)+(t[r>>>11&3]|0);return[T>>>24,T>>16&255,T>>8&255,T&255,h>>>24,h>>16&255,h>>8&255,h&255]}catch(q){throw q;}},r3=function(t){t.N=(t.FQ=F(t,t.P(218))<<24|F(t,t.P(218))<<16|F(t,t.P(218))<<8|F(t,t.P(218)),void 0)},R=false,Z=function(t,T){try{Q0(t,T,this)}catch(h){B(h,this)}},E=W.requestIdleCallback?function(t){requestIdleCallback(function(){t()},{timeout:4})}:W.setImmediate?function(t){setImmediate(t)}:function(t){setTimeout(t,0)},X=function(t,T,h,r){for(r=(T|0)-(h=[],1);0<=r;r--)h[(T|0)-1-(r|0)]=t>>8*r&255;return h},vk=[],b9=function(t,T,h,r,q,n){t.A++;try{for(q=5001,T=void 0,r=t.l,h=0;(t.cN||--q)&&(t.o||(h=t.P(218))<r);)try{n=void 0,t.o?T=t.V(t.o):(L(t,236,h),n=d(t),T=t.P(n)),T&&T.call?T(t):y(21,t,0,n),t.L=true,e(false,false,t)}catch(Q){Q!=t.Z&&(t.P(57)?y(22,t,Q):L(t,57,Q))}q||y(33,t)}catch(Q){try{y(22,t,Q)}catch(v){B(v,t)}}t.A--},Y,f=(Z.prototype.ZY=function(t,T,h,r){try{r=t[((T|0)+2)%3],t[T]=(t[T]|0)-(t[((T|0)+1)%3]|0)-(r|0)^(1==T?r<<h:r>>>h)}catch(q){throw q;}},Z.prototype.WN=function(t,T,h){if(3==t.length){for(h=0;3>h;h++)T[h]+=t[h];for(t=[13,8,13,12,16,5,3,10,15],h=0;9>h;h++)T[3](T,h%3,t[h])}},function(t,T,h,r,q,n){if(t.v==t)for(n=t.P(T),131==T?(T=function(Q,v,b,x){if(n.rs!=(v=((b=n.length,b)|0)-4>>3,v)){v=(n.rs=(x=[0,0,q[1],q[2]],v),v<<3)-4;try{n.k$=tL(x,jr(v,n),jr((v|0)+4,n))}catch(l){throw l;}}n.push(n.k$[b&7]^Q)},q=t.P(132)):T=function(Q){n.push(Q)},r&&T(r&255),t=h.length,r=0;r<t;r++)T(h[r])}),qA=(Z.prototype.V=function(t){return t=t().shift(),this.o().length||this.K().length||(this.K=this.o=void 0),t},function(t,T,h){if("object"==(h=typeof t,h))if(t){if(t instanceof Array)return"array";if(t instanceof Object)return h;if("[object Window]"==(T=Object.prototype.toString.call(t),T))return"object";if("[object Array]"==T||"number"==typeof t.length&&"undefined"!=typeof t.splice&&"undefined"!=typeof t.propertyIsEnumerable&&!t.propertyIsEnumerable("splice"))return"array";if("[object Function]"==T||"undefined"!=typeof t.call&&"undefined"!=typeof t.propertyIsEnumerable&&!t.propertyIsEnumerable("call"))return"function"}else return"null";else if("function"==h&&"undefined"==typeof t.call)return"object";return h}),Q0=function(t,T,h,r,q){for((q=(h.L=false,[]),h).R=(h.U=false,h.S=((h.tv=(h.o=void 0,h.D=0,function(n,Q,v){return v=(Q=function(){return v()},function(){return n}),Q[this.M]=function(b){n=b},Q}),h).I=25,0),h.K=void 0,h.H=function(n,Q,v,b,x,l){return((b=(x=(v=(l=function(){return x()},this),function(){return x[(v.uf|0)+(l[v.Y]===Q|0)-!b[v.Y]]}),v).G,l)[v.M]=function(c){x[v.yv]=c},l)[v.M](n),n=l},[]),r=h.A=0;128>r;r++)q[r]=String.fromCharCode(r);(m([ck,(m([z,((h.l=((L(h,(L(h,155,(L((L(h,(L(h,(h.o5=(r=(h.mC=(L(h,(L(h,57,(L(h,121,(L((L(h,(L((h.F=(h.X=(L(h,(L(h,136,(L(h,208,(L(h,230,((L(h,235,(L(h,(L(h,195,(L(h,77,(L(h,87,(L(h,163,(L(h,(L(h,(L(h,164,(L((L(h,(L((L((L(h,227,(h.ws=((L(h,(L(h,(L(h,(L(h,117,(L(h,(L(h,((h.KS=(L(h,(((h.g=(h.v=h,[]),h).s=[],h).NW=function(n){this.v=n},218),0),L(h,236,0),function(n,Q){Q.push(n[0]<<24|n[1]<<16|n[2]<<8|n[3]),Q.push(n[4]<<24|n[5]<<16|n[6]<<8|n[7]),Q.push(n[8]<<24|n[9]<<16|n[10]<<8|n[11])}),L)(h,156,function(n){FQ(n,4)}),224),0),147),h),[])),97),function(){}),201),2048),205),function(n,Q){d3(n,(u((Q=n.P(d(n)),Q)),Q))}),L)(h,134,function(n,Q,v,b){L(n,(b=(v=(Q=d((b=d(n),n)),n.P(Q)),n).P(b),Q),v+b)}),false),function(n,Q,v){(v=qA((v=(Q=(v=d(n),d(n)),n.P(v)),v)),L)(n,Q,v)})),h),211,function(n){n.vN(4)}),h),152,function(n,Q,v,b,x,l){if(!e(true,true,n)){if("object"==(n=(l=(x=(v=(x=(Q=d((l=(v=d(n),d(n)),n)),d)(n),n.P(v)),n).P(x),n).P(l),n).P(Q),qA)(v)){for(b in Q=[],v)Q.push(b);v=Q}for(n=(Q=(b=0,v.length),0<n?n:1);b<Q;b+=n)l(v.slice(b,(b|0)+(n|0)),x)}}),232),function(n,Q,v,b){Q=(v=(b=d((Q=(v=d(n),d(n)),n)),n.P(v)),n.P(Q)),L(n,b,+(v==Q))}),h),109,function(n,Q,v,b){L(n,(b=(v=(Q=d(n),d(n)),d(n)),b),n.P(Q)>>>v)}),function(n){FQ(n,1)})),38),function(n,Q,v,b){if(v=n.mC.pop()){for(Q=d(n);0<Q;Q--)b=d(n),v[b]=n.s[b];((v[111]=n.s[111],v)[201]=n.s[201],n).s=v}else L(n,218,n.l)}),111),[]),function(n,Q,v,b,x,l,c,k,O,a,g,C,D){for(Q=(v=(D=(a=((C=(l=(k=(g=d(n),0),function(M,P){for(;C<M;)k|=d(n)<<C,C+=8;return k>>=(P=k&((C-=M,1)<<M)-1,M),P}),0),l)(3)|0)+1,l)(5),b=0),[]);v<D;v++)c=l(1),Q.push(c),b+=c?0:1;for(O=(b=((b|0)-1).toString(2).length,[]),v=0;v<D;v++)Q[v]||(O[v]=l(b));for(l=0;l<D;l++)Q[l]&&(O[l]=d(n));for(x=[];a--;)x.push(n.P(d(n)));L(n,g,function(M,P,G,I,K){for(G=(K=0,I=[],[]);K<D;K++){if(!(P=O[K],Q[K])){for(;P>=I.length;)I.push(d(M));P=I[P]}G.push(P)}M.K=(M.o=(K=M.V,M.H(x.slice(),K)),M).H(G,K)})})),function(n,Q,v){e(false,true,n)||(v=d(n),Q=d(n),L(n,Q,function(b){return eval(b)}(xm(n.P(v)))))})),[165,0,0])),function(n,Q){e(false,true,n)||(Q=oM(n),L(n,Q.sj,Q.J.apply(Q.PN,Q.B)))})),75),function(n,Q,v,b,x,l,c){if((l=(Q=w((v=d(n),n)),""),n.s)[98])for(b=n.P(98),c=b.length,x=0;Q--;)x=((x|0)+(w(n)|0))%c,l+=q[b[x]];else for(;Q--;)l+=q[d(n)];L(n,v,l)}),function(n,Q,v,b){b=(v=(v=d((b=d(n),n)),Q=d(n),n.P(v)),n.P(b)),L(n,Q,b[v])})),L)(h,192,function(n,Q,v,b,x,l,c){e(false,true,n)||(l=oM(n),c=l.PN,Q=l.J,b=l.B,x=b.length,0==x?v=new c[Q]:1==x?v=new c[Q](b[0]):2==x?v=new c[Q](b[0],b[1]):3==x?v=new c[Q](b[0],b[1],b[2]):4==x?v=new c[Q](b[0],b[1],b[2],b[3]):y(22,n),L(n,l.sj,v))}),function(n,Q){n=(Q=d(n),n.P(Q)),n[0].removeEventListener(n[1],n[2],false)})),function(n){n.j(3)})),{})),33),function(n,Q,v,b){L((v=(b=(Q=d(n),d(n)),d(n)),n),v,n.P(Q)||n.P(b))}),false),[]),h),131,h.$(4)),159),function(n,Q,v,b,x){L(n,(Q=(x=(x=d((Q=(v=d((b=d(n),n)),d(n)),n)),n).P(x),v=n.P(v),n.P(Q)),b),l9(x,n,v,Q))}),h),161,function(n){n.j(4)}),function(n,Q,v,b){(Q=(v=(b=d(n),d)(n),d)(n),n.v==n)&&(Q=n.P(Q),v=n.P(v),n.P(b)[v]=Q,244==b&&(n.N=void 0,2==v&&r3(n)))})),L(h,31,function(n,Q,v){(v=(Q=0!=(v=(Q=d(n),d(n)),n.P(Q)),n.P(v)),Q)&&L(n,218,v)}),275)),148),function(n,Q,v){L(n,(v=d((Q=d(n),n)),v),""+n.P(Q))}),[]),window.performance)||{},r.timeOrigin||(r.timing||{}).navigationStart||0),20),function(n,Q,v,b){L(n,(Q=(v=(b=(v=(Q=d(n),d(n)),d(n)),n.P(v)),n.P(Q)),b),Q in v|0)}),173),function(n,Q,v,b,x){for(Q=d(n),v=w(n),x=0,b=[];x<v;x++)b.push(d(n));L(n,Q,b)}),h),132,[0,0,0]),W)),35),function(n,Q,v,b,x){x=(Q=(v=(b=(v=(x=d((Q=d(n),n)),d)(n),d(n)),n.P(v)),n.P(Q)),n.P(x)),b=n.P(b),0!==Q&&(b=l9(1,n,v,b,Q,x),Q.addEventListener(x,b,R),L(n,25,[Q,x,b]))}),L)(h,25,0),0),h).W=[],t)],h),T).G3],h),J)(true,T.eC,h)},AL=[],jr=function(t,T){return T[t]<<24|T[(t|0)+1]<<16|T[(t|0)+2]<<8|T[(t|0)+3]},Ln=function(t,T){if((T=(t=null,W.trustedTypes),!T)||!T.createPolicy)return t;try{t=T.createPolicy("bg",{createHTML:p,createScript:p,createScriptURL:p})}catch(h){W.console&&W.console.error(h.message)}return t},U=[],ck=(Z.prototype.h=function(t,T,h,r,q){if(this.i)t(this.i);else try{r=[],q=!this.F.length,m([V,r,h],this),m([A,t,r],this),T&&!q||J(true,T,this)}catch(n){B(n,this),t(this.i)}},[]),i9=function(t,T,h,r,q){return h=T6(t,function(n){r=((q=(T&&E(T),n),r)(),void 0)},(r=(q=void 0,function(){}),!!T))[0],{invoke:function(n,Q,v,b,x){if(!Q)return Q=h(v),n&&n(Q),Q;x=function(){q(function(l){E(function(){n(l)})},v)},q?x():(b=r,r=function(){E((b(),x))})}}},l9=function(t,T,h,r,q,n,Q){return Q=function(){if(T.v==T){if(T.s){var v=[N,h,r,void 0,q,n,arguments];if(2==t)var b=(m(v,T),J)(false,false,T);else if(1==t){var x=!T.F.length;(m(v,T),x)&&J(false,false,T)}else b=g3(T,v);return b}q&&n&&q.removeEventListener(n,Q,false)}}},L=((H=Z.prototype,Z).prototype.P=function(t,T){if(void 0===(T=this.s[t],T))throw y(30,this,0,t),this.Z;for(t=7;t--;);return T()},function(t,T,h){if(218==T||236==T)if(t.s[T])t.s[T][t.M](h);else t.s[T]=t.tv(h);else if(77!=T&&131!=T&&117!=T&&111!=T&&132!=T||!t.s[T])t.s[T]=t.H(h,t.P);244==T&&r3(t)}),z=[],d3=function(t,T){L(t,(t.mC.push(t.s.slice()),t.s[218]=void 0,218),T)},g3=function(t,T,h,r,q){if(q=T[t.L=false,0],q==V)t.I=25,t.G(T);else if(q==A){h=T[1];try{r=t.G(T)}catch(n){B(n,t),r=t.i}h(r)}else if(q==U)t.G(T);else if(q==z)t.G(T);else if(q==ck){try{for(r=0;r<t.g.length;r++)try{h=t.g[r],h[0][h[1]](h[2])}catch(n){}}catch(n){}(0,T[1])(function(n,Q){t.h(n,true,Q)},(t.g=[],function(n){(m([AL],(n=!t.F.length,t)),n)&&J(false,true,t)}))}else{if(q==N)return r=T[2],L(t,107,T[6]),L(t,136,r),t.G(T);q==AL&&(t.R=[],t.s=null,t.W=[])}},S=function(t,T,h){return L(t,218,(b9(((u((h=t.P(218),T)),u(h),t.W&&h<t.l)?(L(t,218,t.l),d3(t,T)):L(t,218,T),t)),h)),t.P(136)},p=function(t){return t},w=(H.Y="caller",H.uf=35,function(t,T){return(T=d(t),T&128)&&(T=T&127|d(t)<<7),T}),B=function(t,T){T.i=("E:"+t.message+":"+t.stack).slice(0,2048)},oM=(H.yv=36,function(t,T,h,r,q,n){for(r=((h=d((T={},t)),T).sj=d(t),T.B=[],q=t.v==t?(d(t)|0)-1:1,d)(t),n=0;n<q;n++)T.B.push(d(t));for(T.PN=t.P(r);q--;)T.B[q]=t.P(T.B[q]);return T.J=t.P(h),T}),F=((H.cN=(H.Z={},H.M="toString",false),(Z.prototype.$=function(t,T){for(T=[];t--;)T.push(255*Math.random()|0);return T},Z).prototype).nS=function(){return d(this)},function(t,T){if(T>=t.l)throw y(31,t),t.Z;return L(t,218,(T|0)+8),t.W[T>>3]}),m=((((H=Z.prototype,H.MW=function(t,T,h){return(T=(T^=T<<13,T^=T>>17,T^T<<5)&h)||(T=1),t^T},H).XQ=function(t,T,h,r,q,n){for(n=q=(h=[],0);q<t.length;q++)for(r=r<<T|t[q],n+=T;7<n;)n-=8,h.push(r>>n&255);return h},H).C=(window.performance||{}).now?function(){return this.o5+window.performance.now()}:function(){return+new Date},H).CS=function(){return Math.floor(this.S+(this.C()-this.T))},function(t,T){T.F.splice(0,0,t)}),fn=(Z.prototype.G=((H.BN=(H.a5=function(t,T,h,r,q){for(r=q=0;r<t.length;r++)q+=t.charCodeAt(r),q+=q<<10,q^=q>>6;return(q=new Number((t=(q+=q<<3,q^=q>>11,q+(q<<15)>>>0),t)&(1<<T)-1),q)[0]=(t>>>T)%h,q},function(){return Math.floor(this.C())}),H).Ej=function(t,T,h,r){for(;h--;)218!=h&&236!=h&&T.s[h]&&(T.s[h]=T[r](T[t](h),this));T[t]=this},function(t,T){return t=(T={},{}),function(h,r,q,n,Q,v,b,x,l,c,k,O,a,g,C){T=(x=T,t);try{if((b=h[0],b)==vk)return x==t?20:87;if(b==z){k=h[1];try{for(n=(Q=atob((g=[],O=0,k)),0);O<Q.length;O++)v=Q.charCodeAt(O),255<v&&(g[n++]=v&255,v>>=8),g[n++]=v;L(this,244,((this.W=g,this).l=this.W.length<<3,[0,0,0]))}catch(D){D!=this.Z&&y(17,this,D);return}b9(this)}else if(b==V)h[1].push(this.P(117).length,this.P(201),this.P(77).length,this.P(131).length),L(this,136,h[2]),this.s[115]&&S(this,this.P(115));else{if(b==A){this.v=(c=(a=X(((g=h[2],this).P(77).length|0)+2,2),this.v),this);try{C=this.P(111),0<C.length&&f(this,77,X(C.length,2).concat(C),15),f(this,77,[1],104),f(this,77,[7]),Q=0,q=this.P(131),Q-=(this.P(77).length|0)+5,Q+=this.P(224)&2047,4<q.length&&(Q-=(q.length|0)+3),0<Q&&f(this,77,X(Q,2).concat(this.$(Q)),10),4<q.length&&f(this,77,X(q.length,2).concat(q),153)}finally{this.v=c}if(r=((((n=this.$(2).concat(this.P(77)),n)[1]=n[0]^3,n)[3]=n[1]^a[0],n)[4]=n[1]^a[1],this).fS(n))r="!"+r;else for(Q=0,r="";Q<n.length;Q++)l=n[Q][this.M](16),1==l.length&&(l="0"+l),r+=l;return(L(this,((O=r,this.P(117)).length=g.shift(),201),g.shift()),this.P(77)).length=g.shift(),this.P(131).length=g.shift(),O}if(b==U)S(this,h[1]);else if(b==N)return S(this,h[1])}}finally{T=x}}}()),function(t,T,h){return T.h(function(r){h=r},false,t),h}),FQ=function(t,T,h,r){f(t,(h=d((r=d(t),t)),h),X(t.P(r),T))},e=((Z.prototype.j=function(t,T,h,r){((T=(h=(r=t&3,t&=4,T=d(this),d)(this),this.P(T)),t)&&(T=hL((""+T).replace(/\\r\\n/g,"\\n"))),r&&f(this,h,X(T.length,2)),f)(this,h,T)},Z.prototype.fS=function(t,T,h,r){if(h=window.btoa){for(r=0,T="";r<t.length;r+=8192)T+=String.fromCharCode.apply(null,t.slice(r,r+8192));t=h(T).replace(/\\+/g,"-").replace(/\\//g,"_").replace(/=/g,"")}else t=void 0;return t},Z).prototype.vN=function(t,T,h){for(h=(T=d(this),0);0<t;t--)h=h<<8|d(this);L(this,T,h)},function(t,T,h,r){if(r=0<h.D&&h.X&&h.ws&&1>=h.A&&!h.o&&!h.U&&(h.L||!T)&&0==document.hidden,!r||(r?h.C():h.lf)-h.T<h.D-(t?255:T?5:2))return false;return h.U=((L(h,218,(t=h.P(T?236:218),h.l)),h.F).push([U,t]),true)}),Os=function(t,T,h,r){for(r={};t.F.length;){if(h=g3(t,(t.U=false,h=t.F.pop(),h)),T&&t.U){E((r.O=t,function(q){return function(){J(true,true,q.O)}}(r)));break}r={O:r.O}}return h},J=function(t,T,h,r,q,n){if(h.F.length){h.ws=(h.X=(h.X&&0(),true),T);try{n=h.C(),h.T=n,h.lf=n,q=Os(h,T),r=h.C()-h.T,h.S+=r,r<(t?0:10)||0>=h.I--||(r=Math.floor(r),h.R.push(254>=r?r:254))}finally{h.X=false}return q}},xm=function(t,T){return(T=Ln())&&1===t.eval(T.createScript("1"))?function(h){return T.createScript(h)}:function(h){return""+h}}(W);((Y=W.botguard||(W.botguard={}),39)<Y.m||(Y.m=40,Y.bg=i9,Y.a=T6),Y).LPS_=function(t,T,h,r){return r=new Z(t,{G3:T,eC:h}),[function(q){return fn(q,r)}]};try{Y.u||(W.addEventListener("unload",function(){},R),Y.u=1)}catch(t){}try{W.addEventListener("test",null,Object.defineProperty({},"passive",{get:function(){R={passive:true}}}))}catch(t){};}).call(this);'));}).call(this);</script>
  <script type="text/javascript" nonce="rq03Iyc81jJwJ/lCYbKUJg">
  document.bg = new botguard.bg('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');
  </script>
<script nonce="rq03Iyc81jJwJ/lCYbKUJg">
  gaia = window.gaia || {};
  gaia.ps = gaia.ps || {};
  gaia.ps.hasPrefilledIdentifier = false;
  function gaia_parseFragment() {
  var hash = location.hash;
  var params = {};
  if (!hash) {
  return params;
  }
  var paramStrs = decodeURIComponent(hash.substring(1)).split('&');
  for (var i = 0; i < paramStrs.length; i++) {
      var param = paramStrs[i].split('=');
      params[param[0]] = param[1];
    }
    return params;
  }

  function gaia_prefillEmail() {
    var email = null;
    var form = null;
    if (document.getElementById) {
      email = document.getElementById('Email');
      form = document.getElementById('gaia_loginform');
    }
    if (form && email && (email.value == null || email.value == '')
        && (email.type != 'hidden')) {
      hashParams = gaia_parseFragment();
      if (hashParams['Email'] && hashParams['Email'] != '') {
        email.value = hashParams['Email'];
      }
    }
  }

  
  try {
    gaia_prefillEmail();
  } catch (e) {
  }
  
</script>
<script nonce="rq03Iyc81jJwJ/lCYbKUJg">
  var gaia_scrollToElement = function(element) {
  var calculateOffsetHeight = function(element) {
  var curtop = 0;
  if (element.offsetParent) {
  while (element) {
  curtop += element.offsetTop;
  element = element.offsetParent;
  }
  }
  return curtop;
  }
  var siginOffsetHeight = calculateOffsetHeight(element);
  var scrollHeight = siginOffsetHeight - window.innerHeight +
  element.clientHeight + 0.02 * window.innerHeight;
  window.scroll(0, scrollHeight);
  }
</script>
<script nonce="rq03Iyc81jJwJ/lCYbKUJg">
  if (gaia.ps.hasPrefilledIdentifier) {
  var form = document.getElementById('gaia_loginform');
  if (form) {
  form.submit();
  }
  }
</script>
<script nonce="rq03Iyc81jJwJ/lCYbKUJg">
  (function(){
  gaia_onLoginSubmit = function() {
  try {
  gaia.loginAutoRedirect.stop();
  } catch (err) {
  // do not prevent form from being submitted
  }
  try {
  document.bg.invoke(function(response) {
  document.getElementById('bgresponse').value = response;
  });
  } catch (err) {
  document.getElementById('bgresponse').value = '';
  }
  return true;
  }
  document.getElementById('gaia_loginform').onsubmit = gaia_onLoginSubmit;
  var signinButton = document.getElementById('next');
  gaia_attachEvent(window, 'load', function(){
  gaia_scrollToElement(signinButton);
  });
  })();
</script>
  <script nonce="rq03Iyc81jJwJ/lCYbKUJg">var e=this,g=function(b,c){b=b.split(".");var a=e;b[0]in a||!a.execScript||a.execScript("var "+b[0]);for(var d;b.length&&(d=b.shift());)b.length||void 0===c?a[d]?a=a[d]:a=a[d]={}:a[d]=c};var h=function(){try{return new XMLHttpRequest}catch(a){for(var b=["MSXML2.XMLHTTP.6.0","MSXML2.XMLHTTP.3.0","MSXML2.XMLHTTP","Microsoft.XMLHTTP"],c=0;c<b.length;c++)try{return new ActiveXObject(b[c])}catch(d){}}return null};g("gaia.ajax.newXmlHttpRequest",h);var k=function(){this.g=h();this.parameters={}};
k.prototype.send=function(b,c){var a=[],d;for(d in this.parameters)a.push(d+"="+encodeURIComponent(this.parameters[d]));a=a.join("&");var f=this.g;f.open("POST",b,!0);f.setRequestHeader("Content-type","application/x-www-form-urlencoded");f.onreadystatechange=function(){4==f.readyState&&c({status:f.status,text:f.responseText})};f.send(a)};
k.prototype.m=function(b,c,a){var d=this.g;d.open("POST",b,!0);d.setRequestHeader("Content-type","application/json");d.onreadystatechange=function(){4==d.readyState&&a({status:d.status,text:d.responseText})};d.send(c)};k.prototype.get=function(b,c){var a=this.g;a.open("GET",b,!0);a.onreadystatechange=function(){4==a.readyState&&c({status:a.status,text:a.responseText})};a.send()};g("gaia.ajax.XmlHttpFormRequest",k);k.prototype.get=k.prototype.get;k.prototype.sendJson=k.prototype.m;
k.prototype.send=k.prototype.send;var l=/\s*;\s*/,m=function(){if(!document.cookie)return"";for(var b=document.cookie.split(l),c=0;c<b.length;c++){var a=b[c];a=a.replace(/^\s+/,"");a=a.replace(/\s+$/,"");if(0==a.indexOf("APISID="))return a.substr(7)}return""};var n=null,p=function(b,c){this.l=b;this.j=c;this.i=m();this.h=!1},q=function(){var b=n,c=m();c==b.i||b.h||(b.i=c,(new k).get(b.j,function(a){var d=n;a&&a.status&&200==a.status&&"OK"==a.text&&(d.g&&clearInterval(d.g),d.h||(window.location=d.l))}))};p.prototype.start=function(b){if(this.g)return!1;this.g=setInterval(function(){q()},b);return!0};g("gaia.loginAutoRedirect.start",function(b,c,a){if(n||!a||!c||0>=b)return!1;n=new p(c,a);return n.start(b)});
g("gaia.loginAutoRedirect.stop",function(){var b=n;b.h=!0;b.g&&(clearInterval(b.g),b.g=null)});
</script>
  <script type="text/javascript" nonce="rq03Iyc81jJwJ/lCYbKUJg">
  gaia.loginAutoRedirect.start(5000,
  'https:\x2F\x2Faccounts.google.com\x2FServiceLogin?continue=https%3A%2F%2Fdocs.google.com%2Fuc%3Fexport%3Ddownload%26id%3D1lAKqfDZHDAiUZ3wTCOc8xykBOQysB0B4\x26followup=https%3A%2F%2Fdocs.google.com%2Fuc%3Fexport%3Ddownload%26id%3D1lAKqfDZHDAiUZ3wTCOc8xykBOQysB0B4\x26service=wise\x26ltmpl=homepage\x26passive=1209600\x26noautologin=true',
  'https:\x2F\x2Faccounts.google.com\x2FPassiveLoginProber?continue=https%3A%2F%2Fdocs.google.com%2Fuc%3Fexport%3Ddownload%26id%3D1lAKqfDZHDAiUZ3wTCOc8xykBOQysB0B4\x26followup=https%3A%2F%2Fdocs.google.com%2Fuc%3Fexport%3Ddownload%26id%3D1lAKqfDZHDAiUZ3wTCOc8xykBOQysB0B4\x26service=wise\x26ltmpl=homepage\x26passive=1209600');
  </script>
  </body>
</html>
